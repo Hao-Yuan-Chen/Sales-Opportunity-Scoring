{
 "cells": [
  {
   "cell_type": "code",
   "execution_count": 1,
   "metadata": {},
   "outputs": [],
   "source": [
    "import pandas as pd\n",
    "import numpy as np\n",
    "import matplotlib.pyplot as plt\n",
    "import seaborn as sn"
   ]
  },
  {
   "cell_type": "code",
   "execution_count": 2,
   "metadata": {},
   "outputs": [],
   "source": [
    "pd.set_option('display.max_rows', 500)\n",
    "pd.set_option('display.max_columns', 500)"
   ]
  },
  {
   "cell_type": "code",
   "execution_count": 3,
   "metadata": {},
   "outputs": [],
   "source": [
    "df_accounts = pd.read_csv(r'C:\\Users\\1026664\\OneDrive - JDA Software Inc\\Documents\\Talent Platoons - Machine Learning\\accounts.csv',delimiter=\";\",low_memory=False)\n",
    "df_opp = pd.read_csv(r'C:\\Users\\1026664\\OneDrive - JDA Software Inc\\Documents\\Talent Platoons - Machine Learning\\opportunities.csv',delimiter=\";\",low_memory=False)\n",
    "df_fx = pd.read_csv(r'C:\\Users\\1026664\\OneDrive - JDA Software Inc\\Documents\\Talent Platoons - Machine Learning\\fx.csv',delimiter=\";\",low_memory=False)\n",
    "df_products = pd.read_csv(r'C:\\Users\\1026664\\OneDrive - JDA Software Inc\\Documents\\Talent Platoons - Machine Learning\\products.csv',delimiter=\";\",low_memory=False)"
   ]
  },
  {
   "cell_type": "code",
   "execution_count": 4,
   "metadata": {},
   "outputs": [],
   "source": [
    "df_accounts_bkp = df_accounts.copy()\n",
    "df_opp_bkp = df_opp.copy()\n",
    "df_fx_bkp = df_fx.copy()\n",
    "df_products_bkp = df_products.copy()"
   ]
  },
  {
   "cell_type": "code",
   "execution_count": 5,
   "metadata": {},
   "outputs": [],
   "source": [
    "df_opp_bkp['SnapshotGenDate'] = pd.to_datetime(df_opp_bkp['SnapshotGenDate'])\n",
    "df_opp_bkp['created_date'] = pd.to_datetime(df_opp_bkp['created_date'])\n",
    "df_opp_bkp['close_date'] = pd.to_datetime(df_opp_bkp['close_date'])"
   ]
  },
  {
   "cell_type": "code",
   "execution_count": 6,
   "metadata": {},
   "outputs": [],
   "source": [
    "df_accounts_bkp['SnapshotGenDate'] = pd.to_datetime(df_accounts_bkp['SnapshotGenDate'])"
   ]
  },
  {
   "cell_type": "markdown",
   "metadata": {},
   "source": [
    "1. Cleaning data"
   ]
  },
  {
   "cell_type": "code",
   "execution_count": 7,
   "metadata": {},
   "outputs": [],
   "source": [
    "opportunities = df_opp_bkp[df_opp_bkp['stage'].isin(['Open', 'Acknowledged', \n",
    "                                                                 'Suspect', 'Potential', \n",
    "                                                                 'Probable'])]['opportunity_id'].unique()\n",
    "cut = (df_opp_bkp['created_date']>=df_opp_bkp['SnapshotGenDate']-pd.DateOffset(years=3))\n",
    "cut &= (df_opp_bkp['created_date']<=df_opp_bkp['SnapshotGenDate'])\n",
    "cut &= (df_opp_bkp['close_date']>=df_opp_bkp['SnapshotGenDate']-pd.DateOffset(years=1))\n",
    "cut &= (df_opp_bkp['close_date']<=df_opp_bkp['SnapshotGenDate']+pd.DateOffset(years=2))\n",
    "cut &= (df_opp_bkp['type_group'].isin(['Software', 'Subscription']))\n",
    "cut &= (df_opp_bkp['opportunity_id'].isin(opportunities))\n",
    "cut &= (df_opp_bkp['SnapshotGenDate']<'2022-03-31')\n",
    "cut &= (df_opp_bkp['close_date']<=df_opp['SnapshotGenDate'].max())\n",
    "df_opp_bkp = df_opp_bkp[cut]"
   ]
  },
  {
   "cell_type": "code",
   "execution_count": 8,
   "metadata": {},
   "outputs": [],
   "source": [
    "#this cell does not appear to change the number of rows in df_opp_bkp\n",
    "df_opp_bkp.sort_values(['opportunity_id','SnapshotGenDate', 'today'],inplace=True)\n",
    "df_opp_bkp.drop_duplicates(subset=['opportunity_id','SnapshotGenDate'], keep='last',inplace=True)"
   ]
  },
  {
   "cell_type": "code",
   "execution_count": 9,
   "metadata": {},
   "outputs": [],
   "source": [
    "df_accounts_bkp.sort_values(['account_id','SnapshotGenDate', 'today'],inplace=True)\n",
    "df_accounts_bkp.drop_duplicates(subset=['account_id','SnapshotGenDate'], keep='last',inplace=True)"
   ]
  },
  {
   "cell_type": "code",
   "execution_count": 10,
   "metadata": {},
   "outputs": [],
   "source": [
    "df_products_bkp.drop_duplicates(subset=['Product_ID__c'], keep='last',inplace=True)"
   ]
  },
  {
   "cell_type": "code",
   "execution_count": 11,
   "metadata": {},
   "outputs": [],
   "source": [
    "df_opp_bkp.drop(['Unnamed: 0','business_unit','engagement_type','attachment_type','type','won_loss_competitor',\n",
    "               'close_date_month','fiscal_quarter','fiscal_year','sales_committed_opportunity',\n",
    "               'oppty_exec_sponsor','Type_Group__c','request_rfp_assistance','today', 'date_to_assigned', 'days_to_assigned'],axis=1,inplace=True)"
   ]
  },
  {
   "cell_type": "code",
   "execution_count": 12,
   "metadata": {},
   "outputs": [],
   "source": [
    "df_accounts_bkp.drop(['Unnamed: 0','market_segment','customer_market_segment','account_executive_sponsor',\n",
    "                  'outstanding_AR_balance_30days','credit_status','do_not_contact','customer_payment_terms',\n",
    "                  'last_sn_case_createddate','engaged_people','num_of_emails','engagement_minutes__3_mo__', 'etldate'],axis=1,inplace=True)"
   ]
  },
  {
   "cell_type": "code",
   "execution_count": 13,
   "metadata": {},
   "outputs": [],
   "source": [
    "df_products_bkp.drop(['Visible_on_Portal__c','Third_Party_Product__c','SBQQ__QuantityEditable__c','SBQQ__IncludeInMaintenance__c','SBQQ__HasConfigurationAttributes__c','SBQQ__CostEditable__c','Renewable__c','Not_Individually_Sellable__c','NPI_for_OKR__c','Modification_Support_Available__c','Machine_Learning__c','Luminate__c','LastModifiedById','Is_SaaS_Bundle__c','Is_Not_Maintenance_Sales_Item__c','IsActive','Inherit_Sales_Item_from_Parent__c','IPP_Eligible__c','IPP_EligibleF__c','Hide_in_SF_CPQ_Catalog_License__c','Hide_From_CPQ_Catalog_Support_Services__c','Hide_From_CPQ_Catalog_Software__c','Hide_From_CPQ_Catalog_Subscription__c','ETL_CreatedYear','Do_Not_Apply_SSWM_Factor__c','Deferred_Revenue__c','CreatedById','CanUseRevenueSchedule','Available_in_SF_CPQ__c','Apttus_Config2__Icon__c','Apttus_Config2__HasOptions__c','Support_Eligible__c','SBQQ__Taxable__c',\n",
    "                  'SBQQ__ReconfigurationDisabled__c','SBQQ__PricingMethodEditable__c',\n",
    "                  'SBQQ__PriceEditable__c','Apttus_Config2__ExcludeFromSitemap__c',\n",
    "       'Apttus_Config2__HasSearchAttributes__c',\n",
    "       'Apttus_Config2__ShowTabView__c', 'Bundle__c', 'Can_run_on_Cloud__c',\n",
    "       'CurrencyIsoCode', 'ETLDate', 'ETLtimestamp',\n",
    "       'Has_option_price_floor__c', 'Hide_in_SF_CPQ_Catalog_Subscription__c',\n",
    "       'IsArchived', 'IsDeleted', 'Is_Platinum_Points_Updated__c',\n",
    "       'Metrics_Required__c', 'NPI__c', 'Native_SaaS__c', 'SBQQ__Component__c',\n",
    "       'SBQQ__CustomConfigurationRequired__c', 'SBQQ__DescriptionLocked__c',\n",
    "       'SBQQ__EnableLargeConfiguration__c', 'SBQQ__ExcludeFromMaintenance__c',\n",
    "       'SBQQ__ExcludeFromOpportunity__c', 'SBQQ__ExternallyConfigurable__c',\n",
    "       'SBQQ__HasConsumptionSchedule__c', 'SBQQ__Hidden__c',\n",
    "       'SBQQ__HidePriceInSearchResults__c', 'SBQQ__NewQuoteGroup__c',\n",
    "       'SBQQ__NonDiscountable__c', 'SBQQ__NonPartnerDiscountable__c',\n",
    "       'SBQQ__Optional__c','Apttus_Config2__HasDefaults__c'],axis=1,inplace=True)"
   ]
  },
  {
   "cell_type": "code",
   "execution_count": 14,
   "metadata": {},
   "outputs": [],
   "source": [
    "df_opp_bkp['future_stage'] = df_opp_bkp.groupby('opportunity_id')['stage'].shift(-1)\n",
    "df_opp_bkp['future_close_date'] = df_opp_bkp.groupby('opportunity_id')['close_date'].shift(-1)"
   ]
  },
  {
   "cell_type": "code",
   "execution_count": 15,
   "metadata": {},
   "outputs": [],
   "source": [
    "df_opp_bkp.dropna(subset=['future_stage'],inplace=True)"
   ]
  },
  {
   "cell_type": "code",
   "execution_count": 16,
   "metadata": {},
   "outputs": [],
   "source": [
    "df_merged = pd.merge(df_opp_bkp, df_accounts_bkp, on=['account_id','SnapshotGenDate'], how='left')"
   ]
  },
  {
   "cell_type": "markdown",
   "metadata": {},
   "source": [
    "2. Creating target"
   ]
  },
  {
   "cell_type": "code",
   "execution_count": 17,
   "metadata": {},
   "outputs": [
    {
     "name": "stdout",
     "output_type": "stream",
     "text": [
      "0        0\n",
      "1        0\n",
      "2        0\n",
      "3        0\n",
      "4        0\n",
      "        ..\n",
      "27217    0\n",
      "27218    0\n",
      "27219    0\n",
      "27220    0\n",
      "27221    0\n",
      "Name: target, Length: 27222, dtype: int32\n"
     ]
    }
   ],
   "source": [
    "target = df_merged['future_stage'].isin(['Won','Firm'])\n",
    "df_merged['target']= target.astype(int)\n",
    "print(df_merged['target'])"
   ]
  },
  {
   "cell_type": "code",
   "execution_count": 18,
   "metadata": {},
   "outputs": [],
   "source": [
    "df_merged.drop(labels=['future_stage','future_close_date'],axis=1,inplace=True)"
   ]
  },
  {
   "cell_type": "code",
   "execution_count": 19,
   "metadata": {},
   "outputs": [],
   "source": [
    "#create column that counts the number of won opportunities that an account has had\n",
    "#it seems this new column decreases purity for decision tree slightly\n",
    "past_won_opp = df_merged.groupby(['account_id','stage'])['stage'].count().xs('Won', level=1)\n",
    "df_merged = pd.merge(df_merged, past_won_opp, left_on='account_id', right_on='account_id', right_index=True, how='left')\n",
    "df_merged.rename(columns = {'stage_x':'stage','stage_y':'acc_won_count'}, inplace = True)"
   ]
  },
  {
   "cell_type": "code",
   "execution_count": 20,
   "metadata": {},
   "outputs": [],
   "source": [
    "#adding this appears to cause a large drop in purity?\n",
    "df_merged.drop(df_merged[df_merged['stage'].isin(['Firm','Won','Loss','No Decision','Abandoned'])].index,inplace=True)"
   ]
  },
  {
   "cell_type": "markdown",
   "metadata": {},
   "source": [
    "3. Creating datetime delta features"
   ]
  },
  {
   "cell_type": "code",
   "execution_count": 21,
   "metadata": {},
   "outputs": [],
   "source": [
    "#previously dropped 'date_to_assigned' because it appears to have around 0.99 correlation with 'date_to_acknowledged'\n",
    "df_merged['date_to_acknowledged'] = pd.to_datetime(df_merged['date_to_acknowledged'])\n",
    "df_merged['date_to_probable'] = pd.to_datetime(df_merged['date_to_probable'])\n",
    "df_merged['date_to_suspect'] = pd.to_datetime(df_merged['date_to_suspect'])\n",
    "df_merged['last_activity'] = pd.to_datetime(df_merged['last_activity'])\n",
    "df_merged['etldate'] = pd.to_datetime(df_merged['etldate'])"
   ]
  },
  {
   "cell_type": "code",
   "execution_count": 22,
   "metadata": {},
   "outputs": [],
   "source": [
    "df_merged['days_acknowledged_to_suspect']=(df_merged['date_to_suspect']-df_merged['date_to_acknowledged']).dt.days\n",
    "df_merged['days_open_to_probable']=(df_merged['date_to_probable']-df_merged['created_date']).dt.days\n",
    "#df_merged['days_acknowledged_to_probable']=(df_merged['date_to_probable']-df_merged['date_to_acknowledged']).dt.days #DON'T NEED? HIGH CORR WITH DAYS OPEN TO PROBABLE?\n",
    "# scenarios:\n",
    "# opportunity not won yet/lost - input roughly infinity\n",
    "# opportunity skips stages - input delta between last stage and current stage"
   ]
  },
  {
   "cell_type": "code",
   "execution_count": 23,
   "metadata": {},
   "outputs": [],
   "source": [
    "df_merged['days_open_to_close']=(df_merged['created_date']-df_merged['close_date']).dt.days\n",
    "df_merged['days_open_to_lastactivity']=(df_merged['created_date']-df_merged['last_activity']).dt.days\n",
    "df_merged['days_open_to_etl']=(df_merged['created_date']-df_merged['etldate']).dt.days\n",
    "#df_merged['days_open_to_futureclose']=(df_merged['created_date']-df_merged['future_close_date']).dt.days\n",
    "#df_merged['days_open_to_SGD']=(df_merged['created_date']-df_merged['SnapshotGenDate']).dt.days"
   ]
  },
  {
   "cell_type": "code",
   "execution_count": 24,
   "metadata": {},
   "outputs": [],
   "source": [
    "df_merged.drop(['days_suspect_to_probable','outstanding_AR_Balance','date_to_acknowledged','date_to_probable','date_to_suspect', 'theater_country', 'customer_industry', 'customer_tier_level', 'account_credit_limit', 'customer_since_date', 'today', 'ced_status', 'last_face_to_face_meeting', 'sales_growth', 'ad_clicks', 'LastModifiedDate_y', 'LastModifiedDate_x', 'peopleai__TotalTimeSpent__c', 'Primary_Master_Product_Code__c', 'Primary_Master_Product__c', 'mkto_sales_insight', 'highest_contact_level', 'sub_industry', 'opportunity_readiness_scorecard', 'agreement_status', 'opportunity_industry', 'other_competitor', 'theater', 'date_approved_for_full_pursuit_next_step', 'additional_license', 'close_date', 'last_activity', 'etldate', 'created_date'],axis=1,inplace=True)"
   ]
  },
  {
   "cell_type": "code",
   "execution_count": 25,
   "metadata": {},
   "outputs": [],
   "source": [
    "df_merged.drop(['account_id','opportunity_id'],axis=1,inplace=True)"
   ]
  },
  {
   "cell_type": "code",
   "execution_count": 26,
   "metadata": {},
   "outputs": [],
   "source": [
    "df_merged.drop(index=25809,axis=0,inplace=True)"
   ]
  },
  {
   "cell_type": "code",
   "execution_count": 27,
   "metadata": {},
   "outputs": [],
   "source": [
    "df_merged['fiscal_period'] = df_merged['fiscal_period'].str[5:]"
   ]
  },
  {
   "cell_type": "code",
   "execution_count": 28,
   "metadata": {},
   "outputs": [],
   "source": [
    "df_merged['fiscal_period']= df_merged['fiscal_period'].astype(int)\n",
    "df_merged['CHS_Score']= df_merged['CHS_Score'].str.split('(').str[1].str.split('%').str[0].astype(float)"
   ]
  },
  {
   "cell_type": "markdown",
   "metadata": {},
   "source": [
    "4. Imputating null values"
   ]
  },
  {
   "cell_type": "code",
   "execution_count": 29,
   "metadata": {},
   "outputs": [],
   "source": [
    "#count number of columns filled for each row before imputing values to create new column\n",
    "df_merged['sum_nulls']=df_merged.isnull().sum(axis=1)"
   ]
  },
  {
   "cell_type": "code",
   "execution_count": 30,
   "metadata": {},
   "outputs": [],
   "source": [
    "# imputing null values because feature importance algorithm appears to not accept null values\n",
    "# perhaps also want to combine some categories\n",
    "# perhaps some columns can use null as separate category?\n",
    "# perhaps some numerical columns need other imputation than mean?\n",
    "#df_merged['amount__converted'].fillna(value=df_merged['amount__converted'].mean(),inplace=True)\n",
    "df_merged['amount__converted'].fillna(value=df_merged['amount__converted'].mean(),inplace=True)\n",
    "df_merged['days_to_acknowledged'].fillna(value=df_merged['days_to_acknowledged'].mean(),inplace=True)\n",
    "df_merged['deal_size_band__in__usd'].fillna(value='1_<125K',inplace=True)\n",
    "df_merged['opportunity_category'].fillna(value='Other',inplace=True)\n",
    "df_merged['stage'].fillna(value='Open',inplace=True)\n",
    "df_merged['primary_industry'].fillna(value='Manufacturing',inplace=True)\n",
    "df_merged['amount_at_suspect__converted'].fillna(value=df_merged['amount_at_suspect__converted'].mean(),inplace=True)\n",
    "df_merged['days_open_to_suspect'].fillna(value=df_merged['days_open_to_suspect'].mean(),inplace=True)\n",
    "#df_merged['days_suspect_to_probable'].fillna(value=df_merged['days_suspect_to_probable'].mean(),inplace=True)\n",
    "df_merged['Aggregate_PEB_Value__c'].fillna(value=df_merged['Aggregate_PEB_Value__c'].mean(),inplace=True)\n",
    "df_merged['primary_industry'].fillna(value='Potential Azure',inplace=True)\n",
    "df_merged['CHS_Score'].fillna(value=df_merged['CHS_Score'].mean(),inplace=True)\n",
    "df_merged['account_type'].fillna(value='Client',inplace=True)\n",
    "df_merged['days_since_last_case'].fillna(value=df_merged['days_since_last_case'].mean(),inplace=True)\n",
    "df_merged['days_since_BY_customer'].fillna(value=df_merged['days_since_BY_customer'].mean(),inplace=True)\n",
    "#df_merged['outstanding_AR_Balance'].fillna(value=df_merged['outstanding_AR_Balance'].mean(),inplace=True)\n",
    "df_merged['website_visits'].fillna(value=df_merged['website_visits'].mean(),inplace=True)\n",
    "df_merged['visited_website_in_last_30days'].fillna(value='maybe',inplace=True)\n",
    "df_merged['DnB_credit_limit'].fillna(value=df_merged['DnB_credit_limit'].mean(),inplace=True)\n",
    "df_merged['outstanding_ar_balance_amount'].fillna(value=df_merged['outstanding_ar_balance_amount'].mean(),inplace=True)\n",
    "df_merged['outstanding_AR_Balance_over_30days'].fillna(value=df_merged['outstanding_AR_Balance_over_30days'].mean(),inplace=True)\n",
    "df_merged['days_acknowledged_to_suspect'].fillna(value=df_merged['days_acknowledged_to_suspect'].mean(),inplace=True)\n",
    "df_merged['days_open_to_probable'].fillna(value=df_merged['days_open_to_probable'].mean(),inplace=True)\n",
    "#df_merged['days_acknowledged_to_probable'].fillna(value=df_merged['days_acknowledged_to_probable'].mean(),inplace=True)\n",
    "#df_merged['days_open_to_futureclose'].fillna(value=df_merged['days_open_to_futureclose'].mean(),inplace=True)\n",
    "df_merged['acc_won_count'].fillna(value=0.0,inplace=True)"
   ]
  },
  {
   "cell_type": "code",
   "execution_count": 31,
   "metadata": {},
   "outputs": [
    {
     "data": {
      "text/plain": [
       "(19697, 37)"
      ]
     },
     "execution_count": 31,
     "metadata": {},
     "output_type": "execute_result"
    }
   ],
   "source": [
    "df_merged.shape"
   ]
  },
  {
   "cell_type": "code",
   "execution_count": 32,
   "metadata": {},
   "outputs": [
    {
     "data": {
      "text/plain": [
       "SnapshotGenDate                       datetime64[ns]\n",
       "amount__converted                            float64\n",
       "days_to_acknowledged                         float64\n",
       "deal_size_band__in__usd                       object\n",
       "account_rating                                 int64\n",
       "lead_source                                   object\n",
       "type_group                                    object\n",
       "opportunity_category                          object\n",
       "opportunity_sub_category                      object\n",
       "stage                                         object\n",
       "fiscal_period                                  int32\n",
       "age                                          float64\n",
       "primary_industry                              object\n",
       "amount_at_suspect__converted                 float64\n",
       "days_open_to_suspect                         float64\n",
       "Aggregate_PEB_Value__c                       float64\n",
       "subscription_mode                             object\n",
       "product_lines                                float64\n",
       "Probability                                  float64\n",
       "CurrencyIsoCode                               object\n",
       "CHS_Score                                    float64\n",
       "account_type                                  object\n",
       "days_since_last_case                         float64\n",
       "days_since_BY_customer                       float64\n",
       "website_visits                               float64\n",
       "visited_website_in_last_30days                object\n",
       "DnB_credit_limit                             float64\n",
       "outstanding_ar_balance_amount                float64\n",
       "outstanding_AR_Balance_over_30days           float64\n",
       "target                                         int32\n",
       "acc_won_count                                float64\n",
       "days_acknowledged_to_suspect                 float64\n",
       "days_open_to_probable                        float64\n",
       "days_open_to_close                             int64\n",
       "days_open_to_lastactivity                      int64\n",
       "days_open_to_etl                               int64\n",
       "sum_nulls                                      int64\n",
       "dtype: object"
      ]
     },
     "execution_count": 32,
     "metadata": {},
     "output_type": "execute_result"
    }
   ],
   "source": [
    "df_merged.dtypes"
   ]
  },
  {
   "cell_type": "markdown",
   "metadata": {},
   "source": [
    "5. Encoding categorical features"
   ]
  },
  {
   "cell_type": "code",
   "execution_count": 33,
   "metadata": {},
   "outputs": [],
   "source": [
    "df_merged_test = df_merged[df_merged[\"SnapshotGenDate\"]==\"2021-09-30\"]\n",
    "df_merged = df_merged[df_merged[\"SnapshotGenDate\"]!=\"2021-09-30\"]\n",
    "df_merged.drop(['SnapshotGenDate'],axis=1,inplace=True)\n",
    "df_merged_test.drop(['SnapshotGenDate'],axis=1,inplace=True)"
   ]
  },
  {
   "cell_type": "code",
   "execution_count": 34,
   "metadata": {},
   "outputs": [],
   "source": [
    "#fit labelencoder to train data and apply to both train and test to mimic behaviour with new test set\n",
    "from sklearn.preprocessing import LabelEncoder\n",
    "\n",
    "le = LabelEncoder()\n",
    "cols_to_label = ['deal_size_band__in__usd','lead_source','type_group','opportunity_category','opportunity_sub_category','stage','primary_industry','subscription_mode','CurrencyIsoCode','account_type','visited_website_in_last_30days']\n",
    "for col in cols_to_label:\n",
    "    le.fit(df_merged[col])\n",
    "    df_merged[col] = le.transform(df_merged[col])\n",
    "    df_merged_test[col] = le.transform(df_merged_test[col])"
   ]
  },
  {
   "cell_type": "code",
   "execution_count": 35,
   "metadata": {
    "scrolled": true
   },
   "outputs": [
    {
     "data": {
      "text/plain": [
       "False"
      ]
     },
     "execution_count": 35,
     "metadata": {},
     "output_type": "execute_result"
    }
   ],
   "source": [
    "df_merged['amount__converted'].isnull().values.any()"
   ]
  },
  {
   "cell_type": "code",
   "execution_count": 36,
   "metadata": {},
   "outputs": [],
   "source": [
    "#apply feature scaling here\n",
    "#fit standard scaler to train data and apply to both train and test to mimic behaviour with new test set\n",
    "from sklearn.preprocessing import StandardScaler\n",
    "\n",
    "# Initialise the Scaler\n",
    "scaler = StandardScaler()\n",
    " \n",
    "# To scale data\n",
    "scaler.fit(df_merged.drop(['target'],axis=1))\n",
    "df_merged.loc[:, ~df_merged.columns.isin(['target'])] = scaler.transform(df_merged.drop(['target'],axis=1))\n",
    "df_merged_test.loc[:, ~df_merged.columns.isin(['target'])] = scaler.transform(df_merged_test.drop(['target'],axis=1))"
   ]
  },
  {
   "cell_type": "code",
   "execution_count": 37,
   "metadata": {},
   "outputs": [
    {
     "name": "stdout",
     "output_type": "stream",
     "text": [
      "amount__converted                     float64\n",
      "days_to_acknowledged                  float64\n",
      "account_rating                        float64\n",
      "age                                   float64\n",
      "amount_at_suspect__converted          float64\n",
      "days_open_to_suspect                  float64\n",
      "Aggregate_PEB_Value__c                float64\n",
      "product_lines                         float64\n",
      "Probability                           float64\n",
      "CHS_Score                             float64\n",
      "days_since_last_case                  float64\n",
      "days_since_BY_customer                float64\n",
      "website_visits                        float64\n",
      "DnB_credit_limit                      float64\n",
      "outstanding_ar_balance_amount         float64\n",
      "outstanding_AR_Balance_over_30days    float64\n",
      "target                                  int32\n",
      "days_acknowledged_to_suspect          float64\n",
      "days_open_to_probable                 float64\n",
      "days_open_to_close                    float64\n",
      "days_open_to_lastactivity             float64\n",
      "days_open_to_etl                      float64\n",
      "sum_nulls                             float64\n",
      "dtype: object\n"
     ]
    }
   ],
   "source": [
    "features_to_drop_ft = ['acc_won_count','fiscal_period','deal_size_band__in__usd','lead_source','type_group','opportunity_category','opportunity_sub_category','stage','primary_industry','subscription_mode','CurrencyIsoCode','account_type','visited_website_in_last_30days']\n",
    "test_df = df_merged.drop(labels=features_to_drop_ft,axis=1)\n",
    "print(test_df.dtypes)"
   ]
  },
  {
   "cell_type": "code",
   "execution_count": 74,
   "metadata": {},
   "outputs": [
    {
     "data": {
      "text/plain": [
       "0.18796448209291614"
      ]
     },
     "execution_count": 74,
     "metadata": {},
     "output_type": "execute_result"
    }
   ],
   "source": [
    "test_df['days_to_acknowledged'].corr(test_df['age'])"
   ]
  },
  {
   "cell_type": "code",
   "execution_count": 75,
   "metadata": {},
   "outputs": [
    {
     "data": {
      "image/png": "[encoded data removed]",
      "text/plain": [
       "<Figure size 432x288 with 1 Axes>"
      ]
     },
     "metadata": {
      "needs_background": "light"
     },
     "output_type": "display_data"
    }
   ],
   "source": [
    "#pairplot - go through most numerical column from pairplot to analyze\n",
    "#create new columns from any relationships between columns and remove old columns?\n",
    "#remove one column from high corr relationship (without creating new column)?\n",
    "import matplotlib.pyplot as plt\n",
    "import numpy as np\n",
    "x=test_df['days_to_acknowledged']\n",
    "y=test_df['age']\n",
    "plt.scatter(x, y)\n",
    "plt.xlabel('days_to_acknowledged')\n",
    "plt.ylabel('age')\n",
    "plt.show()"
   ]
  },
  {
   "cell_type": "markdown",
   "metadata": {},
   "source": [
    "6. Use feature selection algorithm"
   ]
  },
  {
   "cell_type": "code",
   "execution_count": 70,
   "metadata": {
    "scrolled": true
   },
   "outputs": [
    {
     "data": {
      "image/png": "[encoded data removed]",
      "text/plain": [
       "<Figure size 432x288 with 1 Axes>"
      ]
     },
     "metadata": {
      "needs_background": "light"
     },
     "output_type": "display_data"
    }
   ],
   "source": [
    "from sklearn.feature_selection import mutual_info_classif\n",
    "\n",
    "importances = mutual_info_classif(df_merged.loc[:, df_merged.columns!='target'],df_merged['target'])\n",
    "feat_importances = pd.Series(importances, df_merged.columns[~df_merged.columns.isin(['target'])])\n",
    "feat_importances.plot(kind='barh', color = 'teal')\n",
    "plt.show()"
   ]
  },
  {
   "cell_type": "markdown",
   "metadata": {},
   "source": [
    "7. KNN algorithm"
   ]
  },
  {
   "cell_type": "code",
   "execution_count": 41,
   "metadata": {},
   "outputs": [
    {
     "data": {
      "text/plain": [
       "Text(0, 0.5, 'Error Rate')"
      ]
     },
     "execution_count": 41,
     "metadata": {},
     "output_type": "execute_result"
    },
    {
     "data": {
      "image/png": "[encoded data removed]",
      "text/plain": [
       "<Figure size 720x432 with 1 Axes>"
      ]
     },
     "metadata": {
      "needs_background": "light"
     },
     "output_type": "display_data"
    }
   ],
   "source": [
    "from sklearn.neighbors import KNeighborsClassifier\n",
    "filter_features = feat_importances[feat_importances>0.001].index.tolist()\n",
    "#elbow plot for knn\n",
    "error_rate = []\n",
    "for i in range(1,40):\n",
    " \n",
    "    knn = KNeighborsClassifier(n_neighbors=i)\n",
    "    knn.fit(df_merged[filter_features], df_merged['target'])\n",
    "    pred_i = knn.predict(df_merged_test[filter_features])\n",
    "    error_rate.append(np.mean(pred_i != df_merged_test['target']))\n",
    "    \n",
    "plt.figure(figsize=(10,6))\n",
    "plt.plot(range(1,40),error_rate,color='blue', linestyle='dashed', marker='o',\n",
    " markerfacecolor='red', markersize=10)\n",
    "plt.title('Error Rate vs. K Value')\n",
    "plt.xlabel('K')\n",
    "plt.ylabel('Error Rate')"
   ]
  },
  {
   "cell_type": "code",
   "execution_count": 42,
   "metadata": {},
   "outputs": [],
   "source": [
    "#takes too long\n",
    "#from sklearn.neighbors import KNeighborsClassifier\n",
    "#from sklearn.model_selection import GridSearchCV\n",
    "\n",
    "#parameters = {'n_neighbors':list(range(1, 15)), 'weights':('uniform', 'distance'), 'algorithm':('ball_tree', 'kd_tree', 'brute')}\n",
    "#gscvclf = GridSearchCV(KNeighborsClassifier(), parameters, scoring='precision')\n",
    "#gscvclf.fit(df_merged[filter_features][:15000], df_merged['target'][:15000])\n",
    "#print(gscvclf.best_score_)\n",
    "#print(gscvclf.best_params_)"
   ]
  },
  {
   "cell_type": "code",
   "execution_count": 43,
   "metadata": {
    "scrolled": true
   },
   "outputs": [
    {
     "data": {
      "text/html": [
       "<style>#sk-container-id-1 {color: black;background-color: white;}#sk-container-id-1 pre{padding: 0;}#sk-container-id-1 div.sk-toggleable {background-color: white;}#sk-container-id-1 label.sk-toggleable__label {cursor: pointer;display: block;width: 100%;margin-bottom: 0;padding: 0.3em;box-sizing: border-box;text-align: center;}#sk-container-id-1 label.sk-toggleable__label-arrow:before {content: \"▸\";float: left;margin-right: 0.25em;color: #696969;}#sk-container-id-1 label.sk-toggleable__label-arrow:hover:before {color: black;}#sk-container-id-1 div.sk-estimator:hover label.sk-toggleable__label-arrow:before {color: black;}#sk-container-id-1 div.sk-toggleable__content {max-height: 0;max-width: 0;overflow: hidden;text-align: left;background-color: #f0f8ff;}#sk-container-id-1 div.sk-toggleable__content pre {margin: 0.2em;color: black;border-radius: 0.25em;background-color: #f0f8ff;}#sk-container-id-1 input.sk-toggleable__control:checked~div.sk-toggleable__content {max-height: 200px;max-width: 100%;overflow: auto;}#sk-container-id-1 input.sk-toggleable__control:checked~label.sk-toggleable__label-arrow:before {content: \"▾\";}#sk-container-id-1 div.sk-estimator input.sk-toggleable__control:checked~label.sk-toggleable__label {background-color: #d4ebff;}#sk-container-id-1 div.sk-label input.sk-toggleable__control:checked~label.sk-toggleable__label {background-color: #d4ebff;}#sk-container-id-1 input.sk-hidden--visually {border: 0;clip: rect(1px 1px 1px 1px);clip: rect(1px, 1px, 1px, 1px);height: 1px;margin: -1px;overflow: hidden;padding: 0;position: absolute;width: 1px;}#sk-container-id-1 div.sk-estimator {font-family: monospace;background-color: #f0f8ff;border: 1px dotted black;border-radius: 0.25em;box-sizing: border-box;margin-bottom: 0.5em;}#sk-container-id-1 div.sk-estimator:hover {background-color: #d4ebff;}#sk-container-id-1 div.sk-parallel-item::after {content: \"\";width: 100%;border-bottom: 1px solid gray;flex-grow: 1;}#sk-container-id-1 div.sk-label:hover label.sk-toggleable__label {background-color: #d4ebff;}#sk-container-id-1 div.sk-serial::before {content: \"\";position: absolute;border-left: 1px solid gray;box-sizing: border-box;top: 0;bottom: 0;left: 50%;z-index: 0;}#sk-container-id-1 div.sk-serial {display: flex;flex-direction: column;align-items: center;background-color: white;padding-right: 0.2em;padding-left: 0.2em;position: relative;}#sk-container-id-1 div.sk-item {position: relative;z-index: 1;}#sk-container-id-1 div.sk-parallel {display: flex;align-items: stretch;justify-content: center;background-color: white;position: relative;}#sk-container-id-1 div.sk-item::before, #sk-container-id-1 div.sk-parallel-item::before {content: \"\";position: absolute;border-left: 1px solid gray;box-sizing: border-box;top: 0;bottom: 0;left: 50%;z-index: -1;}#sk-container-id-1 div.sk-parallel-item {display: flex;flex-direction: column;z-index: 1;position: relative;background-color: white;}#sk-container-id-1 div.sk-parallel-item:first-child::after {align-self: flex-end;width: 50%;}#sk-container-id-1 div.sk-parallel-item:last-child::after {align-self: flex-start;width: 50%;}#sk-container-id-1 div.sk-parallel-item:only-child::after {width: 0;}#sk-container-id-1 div.sk-dashed-wrapped {border: 1px dashed gray;margin: 0 0.4em 0.5em 0.4em;box-sizing: border-box;padding-bottom: 0.4em;background-color: white;}#sk-container-id-1 div.sk-label label {font-family: monospace;font-weight: bold;display: inline-block;line-height: 1.2em;}#sk-container-id-1 div.sk-label-container {text-align: center;}#sk-container-id-1 div.sk-container {/* jupyter's `normalize.less` sets `[hidden] { display: none; }` but bootstrap.min.css set `[hidden] { display: none !important; }` so we also need the `!important` here to be able to override the default hidden behavior on the sphinx rendered scikit-learn.org. See: https://github.com/scikit-learn/scikit-learn/issues/21755 */display: inline-block !important;position: relative;}#sk-container-id-1 div.sk-text-repr-fallback {display: none;}</style><div id=\"sk-container-id-1\" class=\"sk-top-container\"><div class=\"sk-text-repr-fallback\"><pre>KNeighborsClassifier(algorithm=&#x27;ball_tree&#x27;, n_neighbors=6)</pre><b>In a Jupyter environment, please rerun this cell to show the HTML representation or trust the notebook. <br />On GitHub, the HTML representation is unable to render, please try loading this page with nbviewer.org.</b></div><div class=\"sk-container\" hidden><div class=\"sk-item\"><div class=\"sk-estimator sk-toggleable\"><input class=\"sk-toggleable__control sk-hidden--visually\" id=\"sk-estimator-id-1\" type=\"checkbox\" checked><label for=\"sk-estimator-id-1\" class=\"sk-toggleable__label sk-toggleable__label-arrow\">KNeighborsClassifier</label><div class=\"sk-toggleable__content\"><pre>KNeighborsClassifier(algorithm=&#x27;ball_tree&#x27;, n_neighbors=6)</pre></div></div></div></div></div>"
      ],
      "text/plain": [
       "KNeighborsClassifier(algorithm='ball_tree', n_neighbors=6)"
      ]
     },
     "execution_count": 43,
     "metadata": {},
     "output_type": "execute_result"
    }
   ],
   "source": [
    "from sklearn.neighbors import KNeighborsClassifier\n",
    "\n",
    "neigh = KNeighborsClassifier(n_neighbors=6, weights='uniform', algorithm='ball_tree')\n",
    "neigh.fit(df_merged[filter_features], df_merged['target'])"
   ]
  },
  {
   "cell_type": "code",
   "execution_count": 44,
   "metadata": {},
   "outputs": [
    {
     "data": {
      "text/plain": [
       "0.9190814652815746"
      ]
     },
     "execution_count": 44,
     "metadata": {},
     "output_type": "execute_result"
    }
   ],
   "source": [
    "neigh.score(df_merged_test[filter_features], df_merged_test['target'])"
   ]
  },
  {
   "cell_type": "code",
   "execution_count": 45,
   "metadata": {
    "scrolled": true
   },
   "outputs": [
    {
     "data": {
      "text/plain": [
       "0.75"
      ]
     },
     "execution_count": 45,
     "metadata": {},
     "output_type": "execute_result"
    }
   ],
   "source": [
    "from sklearn.metrics import precision_score\n",
    "predictions = neigh.predict(df_merged_test[filter_features])\n",
    "precision_score(df_merged_test['target'],predictions)"
   ]
  },
  {
   "cell_type": "markdown",
   "metadata": {},
   "source": [
    "8. Decision Tree Algorithm"
   ]
  },
  {
   "cell_type": "code",
   "execution_count": 46,
   "metadata": {},
   "outputs": [
    {
     "name": "stdout",
     "output_type": "stream",
     "text": [
      "0.40089603162779497\n",
      "{'criterion': 'log_loss'}\n"
     ]
    }
   ],
   "source": [
    "from sklearn.tree import DecisionTreeClassifier\n",
    "from sklearn.model_selection import GridSearchCV\n",
    "\n",
    "parameters = {'criterion':('gini', 'entropy', 'log_loss')}\n",
    "gscvclf = GridSearchCV(DecisionTreeClassifier(), parameters, scoring='precision')\n",
    "gscvclf.fit(df_merged[filter_features], df_merged['target'])\n",
    "print(gscvclf.best_score_)\n",
    "print(gscvclf.best_params_)"
   ]
  },
  {
   "cell_type": "code",
   "execution_count": 47,
   "metadata": {},
   "outputs": [
    {
     "name": "stdout",
     "output_type": "stream",
     "text": [
      "[0.96754337 0.95858982 0.94404029 0.93844432 0.91941802 0.91773923\n",
      " 0.83827644 0.95187465 0.95352744 0.95352744]\n",
      "0.9179879715691635\n"
     ]
    }
   ],
   "source": [
    "from sklearn.model_selection import cross_val_score\n",
    "dtclf = DecisionTreeClassifier(criterion='log_loss')\n",
    "print(cross_val_score(dtclf, df_merged[filter_features], df_merged['target'], cv=10))\n",
    "dtclf.fit(df_merged[filter_features], df_merged['target'])\n",
    "print(dtclf.score(df_merged_test[filter_features], df_merged_test['target']))"
   ]
  },
  {
   "cell_type": "code",
   "execution_count": 48,
   "metadata": {},
   "outputs": [
    {
     "data": {
      "text/plain": [
       "0.5344827586206896"
      ]
     },
     "execution_count": 48,
     "metadata": {},
     "output_type": "execute_result"
    }
   ],
   "source": [
    "predictionsdt = dtclf.predict(df_merged_test[filter_features])\n",
    "precision_score(df_merged_test['target'],predictionsdt)"
   ]
  },
  {
   "cell_type": "markdown",
   "metadata": {},
   "source": [
    "10. Gradient Boosting Classifier"
   ]
  },
  {
   "cell_type": "code",
   "execution_count": 49,
   "metadata": {},
   "outputs": [],
   "source": [
    "# from sklearn.ensemble import GradientBoostingClassifier\n",
    "# from sklearn.model_selection import RandomizedSearchCV\n",
    "\n",
    "# parameters = dict(loss=['log_loss', 'exponential'],learning_rate=[x / 10.0 for x in range(1, 6, 1)],n_estimators=list(range(10,60,10)),criterion=['friedman_mse','squared_error'],max_depth=list(range(1,6,1)))\n",
    "# #gscvclf = RandomizedSearchCV(GradientBoostingClassifier(), parameters, scoring='precision', n_iter=50)\n",
    "# gscvclf = GridSearchCV(GradientBoostingClassifier(), parameters, scoring='precision')\n",
    "# gscvclf.fit(df_merged[filter_features], df_merged['target'])\n",
    "# print(gscvclf.best_score_)\n",
    "# print(gscvclf.best_params_)"
   ]
  },
  {
   "cell_type": "code",
   "execution_count": 50,
   "metadata": {},
   "outputs": [
    {
     "name": "stdout",
     "output_type": "stream",
     "text": [
      "[0.96642417 0.97313934 0.96698377 0.96866256 0.96418579 0.97146055\n",
      " 0.87353106 0.86010073 0.97480403 0.96640538]\n",
      "0.9190814652815746\n"
     ]
    }
   ],
   "source": [
    "from sklearn.ensemble import GradientBoostingClassifier\n",
    "gbclf = GradientBoostingClassifier(loss='log_loss',n_estimators=40, learning_rate=0.1,max_depth=3)\n",
    "print(cross_val_score(gbclf, df_merged[filter_features], df_merged['target'], cv=10))\n",
    "gbclf.fit(df_merged[filter_features], df_merged['target'])\n",
    "print(gbclf.score(df_merged_test[filter_features], df_merged_test['target']))"
   ]
  },
  {
   "cell_type": "code",
   "execution_count": 51,
   "metadata": {},
   "outputs": [
    {
     "name": "stdout",
     "output_type": "stream",
     "text": [
      "0.5882352941176471\n"
     ]
    },
    {
     "data": {
      "image/png": "[encoded data removed]",
      "text/plain": [
       "<Figure size 432x288 with 1 Axes>"
      ]
     },
     "metadata": {
      "needs_background": "light"
     },
     "output_type": "display_data"
    }
   ],
   "source": [
    "predictionsgb = gbclf.predict(df_merged_test[filter_features])\n",
    "print(precision_score(df_merged_test['target'],predictionsgb))\n",
    "\n",
    "#these efficiency-purity curves appear to be based on different thresholds for the same set of predictions while keeping hyperparameters constant?\n",
    "#these results perhaps indicate that some feature engineering and/or feature scaling needs to be done.\n",
    "from sklearn.metrics import precision_recall_curve\n",
    "y_score = gbclf.predict_proba(df_merged_test[filter_features])[:,1]\n",
    "precision, recall, thresholds = precision_recall_curve(df_merged_test['target'], y_score)\n",
    "\n",
    "#create precision recall curve\n",
    "fig, ax = plt.subplots()\n",
    "ax.plot(recall, precision, color='purple')\n",
    "\n",
    "#add axis labels to plot\n",
    "ax.set_title('Efficiency-Purity Curve')\n",
    "ax.set_ylabel('Purity')\n",
    "ax.set_xlabel('Efficiency')\n",
    "\n",
    "#display plot\n",
    "plt.show()"
   ]
  },
  {
   "cell_type": "markdown",
   "metadata": {},
   "source": [
    "11. Neural Network"
   ]
  },
  {
   "cell_type": "code",
   "execution_count": 52,
   "metadata": {},
   "outputs": [
    {
     "name": "stdout",
     "output_type": "stream",
     "text": [
      "24/24 [==============================] - 0s 2ms/step\n",
      "[6.0, 148.0, 72.0, 35.0, 0.0, 33.6, 0.627, 50.0] => 1 (expected 1)\n",
      "[1.0, 85.0, 66.0, 29.0, 0.0, 26.6, 0.351, 31.0] => 0 (expected 0)\n",
      "[8.0, 183.0, 64.0, 0.0, 0.0, 23.3, 0.672, 32.0] => 1 (expected 1)\n",
      "[1.0, 89.0, 66.0, 23.0, 94.0, 28.1, 0.167, 21.0] => 0 (expected 0)\n",
      "[0.0, 137.0, 40.0, 35.0, 168.0, 43.1, 2.288, 33.0] => 1 (expected 1)\n"
     ]
    }
   ],
   "source": [
    "# first neural network with keras make predictions\n",
    "from numpy import loadtxt\n",
    "from tensorflow.keras.models import Sequential\n",
    "from tensorflow.keras.layers import Dense\n",
    "# load the dataset\n",
    "dataset = loadtxt('pima-indians-diabetes.csv', delimiter=',')\n",
    "# split into input (X) and output (y) variables\n",
    "X = dataset[:,0:8]\n",
    "y = dataset[:,8]\n",
    "# define the keras model\n",
    "model = Sequential()\n",
    "model.add(Dense(12, input_shape=(8,), activation='relu'))\n",
    "model.add(Dense(8, activation='relu'))\n",
    "model.add(Dense(1, activation='sigmoid'))\n",
    "# compile the keras model\n",
    "model.compile(loss='binary_crossentropy', optimizer='adam', metrics=['accuracy'])\n",
    "# fit the keras model on the dataset\n",
    "model.fit(X, y, epochs=150, batch_size=10, verbose=0)\n",
    "# make class predictions with the model\n",
    "predictions = (model.predict(X) > 0.5).astype(int)\n",
    "# summarize the first 5 cases\n",
    "for i in range(5):\n",
    "    print('%s => %d (expected %d)' % (X[i].tolist(), predictions[i], y[i]))"
   ]
  },
  {
   "cell_type": "code",
   "execution_count": 54,
   "metadata": {},
   "outputs": [
    {
     "name": "stdout",
     "output_type": "stream",
     "text": [
      "58/58 [==============================] - 0s 2ms/step\n"
     ]
    }
   ],
   "source": [
    "# first neural network with keras make predictions\n",
    "from tensorflow.keras.models import Sequential\n",
    "from tensorflow.keras.layers import Dense\n",
    "\n",
    "X=df_merged[filter_features]\n",
    "y=df_merged['target']\n",
    "X_test=df_merged_test[filter_features]\n",
    "\n",
    "# define the keras model\n",
    "nnclf = Sequential()\n",
    "nnclf.add(Dense(12, input_shape=(35,), activation='relu'))\n",
    "nnclf.add(Dense(8, activation='relu'))\n",
    "nnclf.add(Dense(1, activation='sigmoid'))\n",
    "# compile the keras model\n",
    "nnclf.compile(loss='binary_crossentropy', optimizer='adam', metrics=['accuracy'])\n",
    "# fit the keras model on the dataset\n",
    "nnclf.fit(X, y, epochs=150, batch_size=10, verbose=0)\n",
    "# make class predictions with the model\n",
    "predictions = (nnclf.predict(X_test) > 0.5).astype(int)"
   ]
  },
  {
   "cell_type": "code",
   "execution_count": 55,
   "metadata": {},
   "outputs": [
    {
     "name": "stdout",
     "output_type": "stream",
     "text": [
      "0.4888888888888889\n",
      "58/58 [==============================] - 0s 1ms/step\n"
     ]
    },
    {
     "data": {
      "image/png": "[encoded data removed]",
      "text/plain": [
       "<Figure size 432x288 with 1 Axes>"
      ]
     },
     "metadata": {
      "needs_background": "light"
     },
     "output_type": "display_data"
    }
   ],
   "source": [
    "print(precision_score(df_merged_test['target'],predictions))\n",
    "y_score = nnclf.predict(X_test)\n",
    "\n",
    "precision, recall, thresholds = precision_recall_curve(df_merged_test['target'], y_score)\n",
    "#create precision recall curve\n",
    "fig, ax = plt.subplots()\n",
    "ax.plot(recall, precision, color='purple')\n",
    "\n",
    "#add axis labels to plot\n",
    "ax.set_title('Efficiency-Purity Curve')\n",
    "ax.set_ylabel('Purity')\n",
    "ax.set_xlabel('Efficiency')\n",
    "\n",
    "#display plot\n",
    "plt.show()"
   ]
  },
  {
   "cell_type": "code",
   "execution_count": 56,
   "metadata": {},
   "outputs": [],
   "source": [
    "#feature scaling\n",
    "#test different hyperparameters and different features\n",
    "#combine algorithms - use outputs from individuals models as inputs for combined models. Which features perform best for which models?"
   ]
  },
  {
   "cell_type": "code",
   "execution_count": 58,
   "metadata": {},
   "outputs": [
    {
     "name": "stdout",
     "output_type": "stream",
     "text": [
      "Model precision score: 0.3006\n"
     ]
    }
   ],
   "source": [
    "# train a Gaussian Naive Bayes classifier on the training set\n",
    "from sklearn.naive_bayes import GaussianNB\n",
    "# instantiate the model\n",
    "gnb = GaussianNB()\n",
    "# fit the model\n",
    "gnb.fit(df_merged[filter_features], df_merged['target'])\n",
    "y_pred = gnb.predict(df_merged_test[filter_features])\n",
    "y_pred\n",
    "from sklearn.metrics import accuracy_score\n",
    "print('Model precision score: {0:0.4f}'. format(precision_score(df_merged_test['target'], y_pred)))"
   ]
  },
  {
   "cell_type": "code",
   "execution_count": 59,
   "metadata": {},
   "outputs": [],
   "source": [
    "# parameters = dict(penalty=['l1', 'l2', 'elasticnet', 'none'],C=[x / 10.0 for x in range(1, 21, 1)],solver=['newton-cg', 'lbfgs', 'liblinear', 'sag', 'saga'])\n",
    "# #gscvclf = RandomizedSearchCV(GradientBoostingClassifier(), parameters, scoring='precision', n_iter=50)\n",
    "# gscvclf = GridSearchCV(LogisticRegression(), parameters, scoring='precision')\n",
    "# gscvclf.fit(df_merged[filter_features], df_merged['target'])\n",
    "# print(gscvclf.best_score_)\n",
    "# print(gscvclf.best_params_)"
   ]
  },
  {
   "cell_type": "code",
   "execution_count": 60,
   "metadata": {
    "scrolled": true
   },
   "outputs": [
    {
     "data": {
      "image/png": "[encoded data removed]",
      "text/plain": [
       "<Figure size 432x288 with 1 Axes>"
      ]
     },
     "metadata": {
      "needs_background": "light"
     },
     "output_type": "display_data"
    },
    {
     "name": "stdout",
     "output_type": "stream",
     "text": [
      "0.6538461538461539\n"
     ]
    }
   ],
   "source": [
    "#Logistic Regression - appears to perform better after scaling\n",
    "\n",
    "from sklearn.linear_model import LogisticRegression\n",
    "logregclf = LogisticRegression(C=0.2,penalty='l1',solver='liblinear')\n",
    "logregclf.fit(df_merged[filter_features], df_merged['target'])\n",
    "y_score = logregclf.predict_proba(df_merged_test[filter_features])[:,1]\n",
    "\n",
    "precision, recall, thresholds = precision_recall_curve(df_merged_test['target'], y_score)\n",
    "\n",
    "#create precision recall curve\n",
    "fig, ax = plt.subplots()\n",
    "ax.plot(recall, precision, color='purple')\n",
    "\n",
    "#add axis labels to plot\n",
    "ax.set_title('Efficiency-Purity Curve')\n",
    "ax.set_ylabel('Purity')\n",
    "ax.set_xlabel('Efficiency')\n",
    "\n",
    "#display plot\n",
    "plt.show()\n",
    "\n",
    "y_pred = logregclf.predict(df_merged_test[filter_features])\n",
    "print(precision_score(df_merged_test['target'], y_pred))"
   ]
  },
  {
   "cell_type": "code",
   "execution_count": 61,
   "metadata": {},
   "outputs": [],
   "source": [
    "# from sklearn.ensemble import RandomForestClassifier\n",
    "# parameters = dict(n_estimators=list(range(10,110,10)),criterion=['gini', 'entropy', 'log_loss'])\n",
    "# #gscvclf = RandomizedSearchCV(GradientBoostingClassifier(), parameters, scoring='precision', n_iter=50)\n",
    "# gscvclf = GridSearchCV(RandomForestClassifier(), parameters, scoring='precision')\n",
    "# gscvclf.fit(df_merged[filter_features], df_merged['target'])\n",
    "# print(gscvclf.best_score_)\n",
    "# print(gscvclf.best_params_)"
   ]
  },
  {
   "cell_type": "code",
   "execution_count": 63,
   "metadata": {},
   "outputs": [
    {
     "data": {
      "image/png": "[encoded data removed]",
      "text/plain": [
       "<Figure size 432x288 with 1 Axes>"
      ]
     },
     "metadata": {
      "needs_background": "light"
     },
     "output_type": "display_data"
    },
    {
     "name": "stdout",
     "output_type": "stream",
     "text": [
      "0.7083333333333334\n"
     ]
    }
   ],
   "source": [
    "from sklearn.ensemble import RandomForestClassifier\n",
    "rfclf = RandomForestClassifier(criterion='log_loss', n_estimators=100)\n",
    "rfclf.fit(df_merged[filter_features], df_merged['target'])\n",
    "y_score = rfclf.predict_proba(df_merged_test[filter_features])[:,1]\n",
    "\n",
    "precision, recall, thresholds = precision_recall_curve(df_merged_test['target'], y_score)\n",
    "\n",
    "#create precision recall curve\n",
    "fig, ax = plt.subplots()\n",
    "ax.plot(recall, precision, color='purple')\n",
    "\n",
    "#add axis labels to plot\n",
    "ax.set_title('Efficiency-Purity Curve')\n",
    "ax.set_ylabel('Purity')\n",
    "ax.set_xlabel('Efficiency')\n",
    "\n",
    "#display plot\n",
    "plt.show()\n",
    "\n",
    "y_pred = rfclf.predict(df_merged_test[filter_features])\n",
    "print(precision_score(df_merged_test['target'], y_pred))"
   ]
  },
  {
   "cell_type": "code",
   "execution_count": 65,
   "metadata": {},
   "outputs": [
    {
     "data": {
      "image/png": "[encoded data removed]",
      "text/plain": [
       "<Figure size 432x288 with 1 Axes>"
      ]
     },
     "metadata": {
      "needs_background": "light"
     },
     "output_type": "display_data"
    },
    {
     "name": "stdout",
     "output_type": "stream",
     "text": [
      "0.6216216216216216\n"
     ]
    }
   ],
   "source": [
    "#Voting Classifier\n",
    "\n",
    "import numpy as np\n",
    "from sklearn.linear_model import LogisticRegression\n",
    "from sklearn.naive_bayes import GaussianNB\n",
    "from sklearn.ensemble import VotingClassifier\n",
    "\n",
    "clf1 = LogisticRegression(C=0.2,penalty='l1',solver='liblinear')\n",
    "clf2 = RandomForestClassifier(criterion='log_loss', n_estimators=100)\n",
    "clf3 = GaussianNB()\n",
    "clf4 = GradientBoostingClassifier(loss='log_loss',n_estimators=40, learning_rate=0.1,max_depth=3)\n",
    "clf5 = KNeighborsClassifier(n_neighbors=6) #seems to perform better in voting classifier with 3 neighbours as opposed to 8.\n",
    "#clf6 = DecisionTreeClassifier(random_state=0) #appears to provide worse performance\n",
    "\n",
    "votclf = VotingClassifier(estimators=[('lr', clf1), ('rf', clf2), ('gnb', clf3), ('gb', clf4), ('knn', clf5)], voting='soft')\n",
    "votclf = votclf.fit(df_merged[filter_features], df_merged['target'])\n",
    "\n",
    "y_score = votclf.predict_proba(df_merged_test[filter_features])[:,1]\n",
    "precision, recall, thresholds = precision_recall_curve(df_merged_test['target'], y_score)\n",
    "\n",
    "#create precision recall curve\n",
    "fig, ax = plt.subplots()\n",
    "ax.plot(recall, precision, color='purple')\n",
    "\n",
    "#add axis labels to plot\n",
    "ax.set_title('Efficiency-Purity Curve')\n",
    "ax.set_ylabel('Purity')\n",
    "ax.set_xlabel('Efficiency')\n",
    "\n",
    "#display plot\n",
    "plt.show()\n",
    "\n",
    "y_pred = votclf.predict(df_merged_test[filter_features])\n",
    "print(precision_score(df_merged_test['target'], y_pred))"
   ]
  },
  {
   "cell_type": "code",
   "execution_count": 66,
   "metadata": {
    "scrolled": true
   },
   "outputs": [
    {
     "data": {
      "image/png": "[encoded data removed]",
      "text/plain": [
       "<Figure size 432x288 with 1 Axes>"
      ]
     },
     "metadata": {
      "needs_background": "light"
     },
     "output_type": "display_data"
    },
    {
     "name": "stdout",
     "output_type": "stream",
     "text": [
      "0.7241379310344828\n"
     ]
    }
   ],
   "source": [
    "#stacking classifier\n",
    "from sklearn.ensemble import StackingClassifier\n",
    "from sklearn.svm import SVC\n",
    "\n",
    "clf1 = LogisticRegression(C=0.2,penalty='l1',solver='liblinear')\n",
    "clf2 = RandomForestClassifier(criterion='log_loss', n_estimators=100)\n",
    "clf3 = GaussianNB()\n",
    "clf4 = GradientBoostingClassifier(loss='log_loss',n_estimators=40, learning_rate=0.1,max_depth=3)\n",
    "clf5 = KNeighborsClassifier(n_neighbors=6)\n",
    "\n",
    "estimators = [('lg',clf1),('rf',clf2),('gnb',clf3),('gb',clf4),('knn',clf5)]\n",
    "\n",
    "stackclf = StackingClassifier(estimators=estimators, final_estimator=SVC(probability=True))\n",
    "stackclf = stackclf.fit(df_merged[filter_features], df_merged['target'])\n",
    "\n",
    "y_score = stackclf.predict_proba(df_merged_test[filter_features])[:,1]\n",
    "precision, recall, thresholds = precision_recall_curve(df_merged_test['target'], y_score)\n",
    "\n",
    "#create precision recall curve\n",
    "fig, ax = plt.subplots()\n",
    "ax.plot(recall, precision, color='purple')\n",
    "\n",
    "#add axis labels to plot\n",
    "ax.set_title('Efficiency-Purity Curve')\n",
    "ax.set_ylabel('Purity')\n",
    "ax.set_xlabel('Efficiency')\n",
    "\n",
    "#display plot\n",
    "plt.show()\n",
    "\n",
    "y_pred = stackclf.predict(df_merged_test[filter_features])\n",
    "print(precision_score(df_merged_test['target'], y_pred))"
   ]
  },
  {
   "cell_type": "code",
   "execution_count": 67,
   "metadata": {},
   "outputs": [
    {
     "data": {
      "image/png": "[encoded data removed]",
      "text/plain": [
       "<Figure size 432x288 with 1 Axes>"
      ]
     },
     "metadata": {
      "needs_background": "light"
     },
     "output_type": "display_data"
    },
    {
     "name": "stdout",
     "output_type": "stream",
     "text": [
      "0.5\n",
      "Accuracy: 0.9158009841443412\n"
     ]
    }
   ],
   "source": [
    "# Load libraries\n",
    "from sklearn.ensemble import AdaBoostClassifier\n",
    "\n",
    "\n",
    "\n",
    "# Import Support Vector Classifier\n",
    "from sklearn.svm import SVC\n",
    "#Import scikit-learn metrics module for accuracy calculation\n",
    "from sklearn import metrics\n",
    "\n",
    "\n",
    "\n",
    "from sklearn.metrics import precision_recall_curve\n",
    "\n",
    "\n",
    "\n",
    "#svc=SVC(probability=True, kernel='linear')\n",
    "#svc=SVC(probability=True,kernel='poly', degree=8)\n",
    "svc=SVC(probability=True,kernel='rbf')\n",
    "#from sklearn.naive_bayes import GaussianNB\n",
    "# instantiate the model\n",
    "#gnb = GaussianNB()\n",
    "\n",
    "\n",
    "\n",
    "#from sklearn.neighbors import KNeighborsClassifier\n",
    "#neigh = KNeighborsClassifier(n_neighbors=8)\n",
    "\n",
    "\n",
    "\n",
    "# Create adaboost classifer object\n",
    "#abc =AdaBoostClassifier(n_estimators=100, base_estimator=svc,learning_rate=0.01)\n",
    "#abc =AdaBoostClassifier(n_estimators=150, base_estimator=svc,learning_rate=0.01)\n",
    "abc =AdaBoostClassifier(n_estimators=170, base_estimator=svc,learning_rate=0.01)\n",
    "# Train Adaboost Classifer\n",
    "abc.fit(df_merged[filter_features], df_merged['target'])\n",
    "\n",
    "\n",
    "\n",
    "#Predict the response for test dataset\n",
    "y_score = abc.predict(df_merged_test[filter_features])\n",
    "\n",
    "\n",
    "y_prob = abc.predict_proba(df_merged_test[filter_features])[:,1]\n",
    "precision, recall, thresholds = precision_recall_curve(df_merged_test['target'], y_prob)\n",
    "\n",
    "\n",
    "\n",
    "#create precision recall curve\n",
    "fig, ax = plt.subplots()\n",
    "ax.plot(recall, precision, color='purple')\n",
    "\n",
    "\n",
    "\n",
    "#add axis labels to plot\n",
    "ax.set_title('Efficiency-Purity Curve')\n",
    "ax.set_ylabel('Purity')\n",
    "ax.set_xlabel('Efficiency')\n",
    "\n",
    "\n",
    "\n",
    "#display plot\n",
    "plt.show()\n",
    "\n",
    "\n",
    "\n",
    "#y_pred = clf.predict(df_merged[filter_features][15000:])\n",
    "print(precision_score(df_merged_test['target'], y_score))\n",
    "\n",
    "\n",
    "\n",
    "# Model Accuracy, how often is the classifier correct?\n",
    "print(\"Accuracy:\",metrics.accuracy_score((df_merged_test['target']), y_score))"
   ]
  },
  {
   "cell_type": "code",
   "execution_count": 68,
   "metadata": {
    "scrolled": true
   },
   "outputs": [
    {
     "name": "stdout",
     "output_type": "stream",
     "text": [
      "58/58 [==============================] - 0s 2ms/step\n",
      "       y  Logistic Regression  Random Forest  Neural Network   Stacking  \\\n",
      "19818  1            98.026437           90.0       98.869141  86.244955   \n",
      "19785  1            97.005385           48.0       87.191948  69.754466   \n",
      "19810  1            96.995428           60.0       86.222824  79.612839   \n",
      "19784  0            96.892902           44.0       84.850708  60.774701   \n",
      "19849  0            94.232633           65.0       88.032944  81.687043   \n",
      "\n",
      "          Voting  Gradient Boosting  Decision Tree  K nearest neighbour  \\\n",
      "19818  83.123691          85.591986          100.0            50.000000   \n",
      "19785  74.724330          77.616233          100.0            50.000000   \n",
      "19810  76.122338          77.616233          100.0            50.000000   \n",
      "19784  73.101833          77.616233          100.0            50.000000   \n",
      "19849  72.096258          86.581955            0.0            16.666667   \n",
      "\n",
      "        AdaBoost  count  efficiency  purity  \n",
      "19818  14.350336      1    0.649351   100.0  \n",
      "19785  13.340111      2    1.298701   100.0  \n",
      "19810  13.345529      3    1.948052   100.0  \n",
      "19784  13.290261      4    1.948052    75.0  \n",
      "19849  15.861947      5    1.948052    60.0  \n",
      "       y  Logistic Regression  Random Forest  Neural Network   Stacking  \\\n",
      "19818  1            98.026437           90.0       98.869141  86.244955   \n",
      "19890  0            45.058413           90.0       99.813431  80.241583   \n",
      "19717  1            66.607443           85.0       98.101631  85.281428   \n",
      "19823  1            85.341902           83.0       98.070900  88.758649   \n",
      "19804  1            46.948019           82.0       87.289497  82.617387   \n",
      "\n",
      "          Voting  Gradient Boosting  Decision Tree  K nearest neighbour  \\\n",
      "19818  83.123691          85.591986          100.0            50.000000   \n",
      "19890  73.951012          83.242237          100.0            50.000000   \n",
      "19717  72.860783          86.710303          100.0            33.333333   \n",
      "19823  79.786806          85.591986          100.0            50.000000   \n",
      "19804  76.013800          76.787154          100.0            83.333333   \n",
      "\n",
      "        AdaBoost  count  efficiency      purity  \n",
      "19818  14.350336      1    0.649351  100.000000  \n",
      "19890  11.156901      2    0.649351   50.000000  \n",
      "19717  75.704081      3    1.298701   66.666667  \n",
      "19823  11.376068      4    1.948052   75.000000  \n",
      "19804  49.551547      5    2.597403   80.000000  \n",
      "       y  Logistic Regression  Random Forest  Neural Network   Stacking  \\\n",
      "19330  0            21.022473           52.0       99.999992   6.364498   \n",
      "19890  0            45.058413           90.0       99.813431  80.241583   \n",
      "19624  1            70.256442           58.0       99.078293  81.328598   \n",
      "19818  1            98.026437           90.0       98.869141  86.244955   \n",
      "19717  1            66.607443           85.0       98.101631  85.281428   \n",
      "\n",
      "          Voting  Gradient Boosting  Decision Tree  K nearest neighbour  \\\n",
      "19330  40.675465          47.354920          100.0             0.000000   \n",
      "19890  73.951012          83.242237          100.0            50.000000   \n",
      "19624  63.237686          55.598459          100.0            33.333333   \n",
      "19818  83.123691          85.591986          100.0            50.000000   \n",
      "19717  72.860783          86.710303          100.0            33.333333   \n",
      "\n",
      "        AdaBoost  count  efficiency     purity  \n",
      "19330   5.256183      1    0.000000   0.000000  \n",
      "19890  11.156901      2    0.000000   0.000000  \n",
      "19624  23.142249      3    0.649351  33.333333  \n",
      "19818  14.350336      4    1.298701  50.000000  \n",
      "19717  75.704081      5    1.948052  60.000000  \n",
      "       y  Logistic Regression  Random Forest  Neural Network   Stacking  \\\n",
      "19788  1            55.948261           41.0       65.952003  91.218116   \n",
      "19824  1            85.342039           79.0       98.076126  88.758650   \n",
      "19823  1            85.341902           83.0       98.070900  88.758649   \n",
      "19831  1            70.774271           78.0       96.056442  88.695144   \n",
      "19818  1            98.026437           90.0       98.869141  86.244955   \n",
      "\n",
      "          Voting  Gradient Boosting  Decision Tree  K nearest neighbour  \\\n",
      "19788  55.321089          66.059082            0.0            16.666667   \n",
      "19824  79.386834          85.591986          100.0            50.000000   \n",
      "19823  79.786806          85.591986          100.0            50.000000   \n",
      "19831  77.278521          83.626303          100.0            50.000000   \n",
      "19818  83.123691          85.591986          100.0            50.000000   \n",
      "\n",
      "        AdaBoost  count  efficiency  purity  \n",
      "19788  78.056597      1    0.649351   100.0  \n",
      "19824  11.376089      2    1.298701   100.0  \n",
      "19823  11.376068      3    1.948052   100.0  \n",
      "19831  75.732731      4    2.597403   100.0  \n",
      "19818  14.350336      5    3.246753   100.0  \n",
      "       y  Logistic Regression  Random Forest  Neural Network   Stacking  \\\n",
      "19818  1            98.026437           90.0       98.869141  86.244955   \n",
      "19823  1            85.341902           83.0       98.070900  88.758649   \n",
      "19824  1            85.342039           79.0       98.076126  88.758650   \n",
      "19831  1            70.774271           78.0       96.056442  88.695144   \n",
      "19810  1            96.995428           60.0       86.222824  79.612839   \n",
      "\n",
      "          Voting  Gradient Boosting  Decision Tree  K nearest neighbour  \\\n",
      "19818  83.123691          85.591986          100.0                 50.0   \n",
      "19823  79.786806          85.591986          100.0                 50.0   \n",
      "19824  79.386834          85.591986          100.0                 50.0   \n",
      "19831  77.278521          83.626303          100.0                 50.0   \n",
      "19810  76.122338          77.616233          100.0                 50.0   \n",
      "\n",
      "        AdaBoost  count  efficiency  purity  \n",
      "19818  14.350336      1    0.649351   100.0  \n",
      "19823  11.376068      2    1.298701   100.0  \n",
      "19824  11.376089      3    1.948052   100.0  \n",
      "19831  75.732731      4    2.597403   100.0  \n",
      "19810  13.345529      5    3.246753   100.0  \n",
      "       y  Logistic Regression  Random Forest  Neural Network   Stacking  \\\n",
      "19717  1            66.607443           85.0       98.101631  85.281428   \n",
      "19849  0            94.232633           65.0       88.032944  81.687043   \n",
      "19818  1            98.026437           90.0       98.869141  86.244955   \n",
      "19824  1            85.342039           79.0       98.076126  88.758650   \n",
      "19823  1            85.341902           83.0       98.070900  88.758649   \n",
      "\n",
      "          Voting  Gradient Boosting  Decision Tree  K nearest neighbour  \\\n",
      "19717  72.860783          86.710303          100.0            33.333333   \n",
      "19849  72.096258          86.581955            0.0            16.666667   \n",
      "19818  83.123691          85.591986          100.0            50.000000   \n",
      "19824  79.386834          85.591986          100.0            50.000000   \n",
      "19823  79.786806          85.591986          100.0            50.000000   \n",
      "\n",
      "        AdaBoost  count  efficiency      purity  \n",
      "19717  75.704081      1    0.649351  100.000000  \n",
      "19849  15.861947      2    0.649351   50.000000  \n",
      "19818  14.350336      3    1.298701   66.666667  \n",
      "19824  11.376089      4    1.948052   75.000000  \n",
      "19823  11.376068      5    2.597403   80.000000  \n",
      "       y  Logistic Regression  Random Forest  Neural Network   Stacking  \\\n",
      "19717  1            66.607443           85.0       98.101631  85.281428   \n",
      "19330  0            21.022473           52.0       99.999992   6.364498   \n",
      "19750  0             0.974791            8.0        4.560284   2.507871   \n",
      "18525  1            20.214729           12.0        0.000687   2.533059   \n",
      "16591  0            21.357293           41.0        0.383584   2.200284   \n",
      "\n",
      "          Voting  Gradient Boosting  Decision Tree  K nearest neighbour  \\\n",
      "19717  72.860783          86.710303          100.0            33.333333   \n",
      "19330  40.675465          47.354920          100.0             0.000000   \n",
      "19750   4.838818           0.496457          100.0            16.666667   \n",
      "18525   7.053723           1.148302          100.0             0.000000   \n",
      "16591  40.517427          20.563195          100.0            16.666667   \n",
      "\n",
      "        AdaBoost  count  efficiency      purity  \n",
      "19717  75.704081      1    0.649351  100.000000  \n",
      "19330   5.256183      2    0.649351   50.000000  \n",
      "19750   3.365793      3    0.649351   33.333333  \n",
      "18525   7.519438      4    1.298701   50.000000  \n",
      "16591   5.269464      5    1.298701   40.000000  \n",
      "       y  Logistic Regression  Random Forest  Neural Network   Stacking  \\\n",
      "19804  1            46.948019           82.0       87.289497  82.617387   \n",
      "2090   1            55.497282           28.0        0.101829  28.891963   \n",
      "16892  0            41.275004           35.0       31.029144   7.140931   \n",
      "18932  1            49.216001           13.0        8.841273   2.123111   \n",
      "19872  1            26.026620           72.0       83.619431  23.849071   \n",
      "\n",
      "          Voting  Gradient Boosting  Decision Tree  K nearest neighbour  \\\n",
      "19804  76.013800          76.787154          100.0            83.333333   \n",
      "2090   61.987683          42.107364          100.0            83.333333   \n",
      "16892  58.029344          29.409342            0.0            83.333333   \n",
      "18932  45.836877           1.523094            0.0            66.666667   \n",
      "19872  63.714612          58.489599          100.0            66.666667   \n",
      "\n",
      "        AdaBoost  count  efficiency      purity  \n",
      "19804  49.551547      1    0.649351  100.000000  \n",
      "2090    5.040916      2    1.298701  100.000000  \n",
      "16892  42.948056      3    1.298701   66.666667  \n",
      "18932  20.772614      4    1.948052   75.000000  \n",
      "19872  27.602392      5    2.597403   80.000000  \n",
      "       y  Logistic Regression  Random Forest  Neural Network   Stacking  \\\n",
      "19788  1            55.948261           41.0       65.952003  91.218116   \n",
      "19831  1            70.774271           78.0       96.056442  88.695144   \n",
      "19717  1            66.607443           85.0       98.101631  85.281428   \n",
      "19108  0            50.814684           52.0       64.323723  71.712642   \n",
      "19827  1            51.669170           75.0       91.690842  74.050439   \n",
      "\n",
      "          Voting  Gradient Boosting  Decision Tree  K nearest neighbour  \\\n",
      "19788  55.321089          66.059082            0.0            16.666667   \n",
      "19831  77.278521          83.626303          100.0            50.000000   \n",
      "19717  72.860783          86.710303          100.0            33.333333   \n",
      "19108  60.908312          59.787906          100.0            50.000000   \n",
      "19827  72.464079          72.060414          100.0            66.666667   \n",
      "\n",
      "        AdaBoost  count  efficiency  purity  \n",
      "19788  78.056597      1    0.649351   100.0  \n",
      "19831  75.732731      2    1.298701   100.0  \n",
      "19717  75.704081      3    1.948052   100.0  \n",
      "19108  75.673417      4    1.948052    75.0  \n",
      "19827  70.667014      5    2.597403    80.0  \n"
     ]
    },
    {
     "data": {
      "image/png": "[encoded data removed]",
      "text/plain": [
       "<Figure size 576x576 with 1 Axes>"
      ]
     },
     "metadata": {
      "needs_background": "light"
     },
     "output_type": "display_data"
    }
   ],
   "source": [
    "#combiing all graphs\n",
    "fig = plt.figure(figsize=(8,8))\n",
    "ax = plt.subplot()\n",
    "\n",
    "y = df_merged_test['target']\n",
    "df_ = pd.DataFrame({'y': y})\n",
    "logregprobs = logregclf.predict_proba(df_merged_test[filter_features])[:,1]*100.\n",
    "df_['Logistic Regression'] = logregprobs\n",
    "rfprobs = rfclf.predict_proba(df_merged_test[filter_features])[:,1]*100.\n",
    "df_['Random Forest'] = rfprobs\n",
    "nnprobs = nnclf.predict(df_merged_test[filter_features])*100.\n",
    "df_['Neural Network'] = nnprobs\n",
    "stackprobs = stackclf.predict_proba(df_merged_test[filter_features])[:,1]*100.\n",
    "df_['Stacking'] = stackprobs\n",
    "votprobs = votclf.predict_proba(df_merged_test[filter_features])[:,1]*100.\n",
    "df_['Voting'] = votprobs\n",
    "gbprobs = gbclf.predict_proba(df_merged_test[filter_features])[:,1]*100.\n",
    "df_['Gradient Boosting'] = gbprobs\n",
    "dtprobs = dtclf.predict_proba(df_merged_test[filter_features])[:,1]*100.\n",
    "df_['Decision Tree'] = dtprobs\n",
    "neighprobs = neigh.predict_proba(df_merged_test[filter_features])[:,1]*100.\n",
    "df_['K nearest neighbour'] = neighprobs\n",
    "abcprobs = abc.predict_proba(df_merged_test[filter_features])[:,1]*100.\n",
    "df_['AdaBoost'] = abcprobs\n",
    "\n",
    "colors = ['xkcd:burgundy', 'xkcd:pumpkin', 'xkcd:navy', '#8ffe09', '#13eac9', '#ffb7ce', '#fafe4b', '#fe4b03', '#ff000d']\n",
    "for c,model in enumerate(['Logistic Regression', 'Random Forest', 'Neural Network', 'Stacking', 'Voting', 'Gradient Boosting', 'Decision Tree', 'K nearest neighbour', 'AdaBoost']):    \n",
    "    df_ = df_.sort_values(by=model, ascending=False)\n",
    "    df_['count'] = 1\n",
    "    df_['count'] = df_['count'].cumsum()\n",
    "    df_['efficiency'] = df_['y'].cumsum()/df_['y'].sum()*100.\n",
    "    df_['purity'] = df_['y'].cumsum()/df_['count']*100.\n",
    "    print(df_.head())\n",
    "    plt.scatter(df_.efficiency, df_.purity, marker=',',s=5, label=model, color=colors[c])\n",
    "plt.grid()\n",
    "plt.legend()\n",
    "ax.set_xlim([0, 100])\n",
    "ax.set_ylim([0, 100])\n",
    "ax.set_xlabel('Efficiency')\n",
    "ax.set_ylabel('Purity')\n",
    "plt.savefig('pureff2.png')"
   ]
  },
  {
   "cell_type": "code",
   "execution_count": null,
   "metadata": {},
   "outputs": [],
   "source": [
    "#possibilities\n",
    "#1. Issue in feature engineering\n",
    "#2. Issue in ML algorithm used\n",
    "#3. Data distribution issue.\n",
    "#4. No possibility for good result\n",
    "#5. slowly increase number of features and observe accuracy rate.\n",
    "#6. output should be probability format for graphing results?"
   ]
  }
 ],
 "metadata": {
  "kernelspec": {
   "display_name": "Python 3 (ipykernel)",
   "language": "python",
   "name": "python3"
  },
  "language_info": {
   "codemirror_mode": {
    "name": "ipython",
    "version": 3
   },
   "file_extension": ".py",
   "mimetype": "text/x-python",
   "name": "python",
   "nbconvert_exporter": "python",
   "pygments_lexer": "ipython3",
   "version": "3.12.4"
  }
 },
 "nbformat": 4,
 "nbformat_minor": 4
}
