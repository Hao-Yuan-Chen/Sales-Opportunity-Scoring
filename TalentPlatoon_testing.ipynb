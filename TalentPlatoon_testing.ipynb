{
 "cells": [
  {
   "cell_type": "code",
   "execution_count": 1,
   "metadata": {},
   "outputs": [],
   "source": [
    "import pandas as pd\n",
    "import numpy as np\n",
    "import matplotlib.pyplot as plt\n",
    "import seaborn as sn"
   ]
  },
  {
   "cell_type": "code",
   "execution_count": 2,
   "metadata": {},
   "outputs": [],
   "source": [
    "pd.set_option('display.max_rows', 500)\n",
    "pd.set_option('display.max_columns', 500)"
   ]
  },
  {
   "cell_type": "code",
   "execution_count": 3,
   "metadata": {},
   "outputs": [],
   "source": [
    "df_accounts = pd.read_csv(r'C:\\Users\\1026664\\OneDrive - JDA Software Inc\\Documents\\Talent Platoons - Machine Learning\\accounts.csv',delimiter=\";\",low_memory=False)\n",
    "df_opp = pd.read_csv(r'C:\\Users\\1026664\\OneDrive - JDA Software Inc\\Documents\\Talent Platoons - Machine Learning\\opportunities.csv',delimiter=\";\",low_memory=False)\n",
    "df_fx = pd.read_csv(r'C:\\Users\\1026664\\OneDrive - JDA Software Inc\\Documents\\Talent Platoons - Machine Learning\\fx.csv',delimiter=\";\",low_memory=False)\n",
    "df_products = pd.read_csv(r'C:\\Users\\1026664\\OneDrive - JDA Software Inc\\Documents\\Talent Platoons - Machine Learning\\products.csv',delimiter=\";\",low_memory=False)"
   ]
  },
  {
   "cell_type": "code",
   "execution_count": 4,
   "metadata": {},
   "outputs": [],
   "source": [
    "df_accounts_bkp = df_accounts.copy()\n",
    "df_opp_bkp = df_opp.copy()\n",
    "df_fx_bkp = df_fx.copy()\n",
    "df_products_bkp = df_products.copy()"
   ]
  },
  {
   "cell_type": "code",
   "execution_count": 5,
   "metadata": {},
   "outputs": [],
   "source": [
    "df_opp_bkp['SnapshotGenDate'] = pd.to_datetime(df_opp_bkp['SnapshotGenDate'])\n",
    "df_opp_bkp['created_date'] = pd.to_datetime(df_opp_bkp['created_date'])\n",
    "df_opp_bkp['close_date'] = pd.to_datetime(df_opp_bkp['close_date'])"
   ]
  },
  {
   "cell_type": "code",
   "execution_count": 6,
   "metadata": {},
   "outputs": [],
   "source": [
    "df_accounts_bkp['SnapshotGenDate'] = pd.to_datetime(df_accounts_bkp['SnapshotGenDate'])"
   ]
  },
  {
   "cell_type": "markdown",
   "metadata": {},
   "source": [
    "1. Cleaning data"
   ]
  },
  {
   "cell_type": "code",
   "execution_count": 7,
   "metadata": {},
   "outputs": [],
   "source": [
    "opportunities = df_opp_bkp[df_opp_bkp['stage'].isin(['Open', 'Acknowledged', \n",
    "                                                                 'Suspect', 'Potential', \n",
    "                                                                 'Probable'])]['opportunity_id'].unique()\n",
    "cut = (df_opp_bkp['created_date']>=df_opp_bkp['SnapshotGenDate']-pd.DateOffset(years=3))\n",
    "cut &= (df_opp_bkp['created_date']<=df_opp_bkp['SnapshotGenDate'])\n",
    "cut &= (df_opp_bkp['close_date']>=df_opp_bkp['SnapshotGenDate']-pd.DateOffset(years=1))\n",
    "cut &= (df_opp_bkp['close_date']<=df_opp_bkp['SnapshotGenDate']+pd.DateOffset(years=2))\n",
    "cut &= (df_opp_bkp['type_group'].isin(['Software', 'Subscription']))\n",
    "cut &= (df_opp_bkp['opportunity_id'].isin(opportunities))\n",
    "cut &= (df_opp_bkp['SnapshotGenDate']<'2022-03-31')\n",
    "cut &= (df_opp_bkp['close_date']<=df_opp['SnapshotGenDate'].max())\n",
    "df_opp_bkp = df_opp_bkp[cut]"
   ]
  },
  {
   "cell_type": "code",
   "execution_count": 8,
   "metadata": {},
   "outputs": [],
   "source": [
    "#this cell does not appear to change the number of rows in df_opp_bkp\n",
    "df_opp_bkp.sort_values(['opportunity_id','SnapshotGenDate', 'today'],inplace=True)\n",
    "df_opp_bkp.drop_duplicates(subset=['opportunity_id','SnapshotGenDate'], keep='last',inplace=True)"
   ]
  },
  {
   "cell_type": "code",
   "execution_count": 9,
   "metadata": {},
   "outputs": [],
   "source": [
    "df_accounts_bkp.sort_values(['account_id','SnapshotGenDate', 'today'],inplace=True)\n",
    "df_accounts_bkp.drop_duplicates(subset=['account_id','SnapshotGenDate'], keep='last',inplace=True)"
   ]
  },
  {
   "cell_type": "code",
   "execution_count": 10,
   "metadata": {},
   "outputs": [],
   "source": [
    "df_products_bkp.drop_duplicates(subset=['Product_ID__c'], keep='last',inplace=True)"
   ]
  },
  {
   "cell_type": "code",
   "execution_count": 11,
   "metadata": {},
   "outputs": [],
   "source": [
    "df_opp_bkp.drop(['Unnamed: 0','business_unit','engagement_type','attachment_type','type','won_loss_competitor',\n",
    "               'close_date_month','fiscal_quarter','fiscal_year','sales_committed_opportunity',\n",
    "               'oppty_exec_sponsor','Type_Group__c','request_rfp_assistance','today', 'date_to_assigned', 'days_to_assigned'],axis=1,inplace=True)"
   ]
  },
  {
   "cell_type": "code",
   "execution_count": 12,
   "metadata": {},
   "outputs": [],
   "source": [
    "df_accounts_bkp.drop(['Unnamed: 0','market_segment','customer_market_segment','account_executive_sponsor',\n",
    "                  'outstanding_AR_balance_30days','credit_status','do_not_contact','customer_payment_terms',\n",
    "                  'last_sn_case_createddate','engaged_people','num_of_emails','engagement_minutes__3_mo__', 'etldate'],axis=1,inplace=True)"
   ]
  },
  {
   "cell_type": "code",
   "execution_count": 13,
   "metadata": {},
   "outputs": [],
   "source": [
    "df_products_bkp.drop(['Visible_on_Portal__c','Third_Party_Product__c','SBQQ__QuantityEditable__c','SBQQ__IncludeInMaintenance__c','SBQQ__HasConfigurationAttributes__c','SBQQ__CostEditable__c','Renewable__c','Not_Individually_Sellable__c','NPI_for_OKR__c','Modification_Support_Available__c','Machine_Learning__c','Luminate__c','LastModifiedById','Is_SaaS_Bundle__c','Is_Not_Maintenance_Sales_Item__c','IsActive','Inherit_Sales_Item_from_Parent__c','IPP_Eligible__c','IPP_EligibleF__c','Hide_in_SF_CPQ_Catalog_License__c','Hide_From_CPQ_Catalog_Support_Services__c','Hide_From_CPQ_Catalog_Software__c','Hide_From_CPQ_Catalog_Subscription__c','ETL_CreatedYear','Do_Not_Apply_SSWM_Factor__c','Deferred_Revenue__c','CreatedById','CanUseRevenueSchedule','Available_in_SF_CPQ__c','Apttus_Config2__Icon__c','Apttus_Config2__HasOptions__c','Support_Eligible__c','SBQQ__Taxable__c',\n",
    "                  'SBQQ__ReconfigurationDisabled__c','SBQQ__PricingMethodEditable__c',\n",
    "                  'SBQQ__PriceEditable__c','Apttus_Config2__ExcludeFromSitemap__c',\n",
    "       'Apttus_Config2__HasSearchAttributes__c',\n",
    "       'Apttus_Config2__ShowTabView__c', 'Bundle__c', 'Can_run_on_Cloud__c',\n",
    "       'CurrencyIsoCode', 'ETLDate', 'ETLtimestamp',\n",
    "       'Has_option_price_floor__c', 'Hide_in_SF_CPQ_Catalog_Subscription__c',\n",
    "       'IsArchived', 'IsDeleted', 'Is_Platinum_Points_Updated__c',\n",
    "       'Metrics_Required__c', 'NPI__c', 'Native_SaaS__c', 'SBQQ__Component__c',\n",
    "       'SBQQ__CustomConfigurationRequired__c', 'SBQQ__DescriptionLocked__c',\n",
    "       'SBQQ__EnableLargeConfiguration__c', 'SBQQ__ExcludeFromMaintenance__c',\n",
    "       'SBQQ__ExcludeFromOpportunity__c', 'SBQQ__ExternallyConfigurable__c',\n",
    "       'SBQQ__HasConsumptionSchedule__c', 'SBQQ__Hidden__c',\n",
    "       'SBQQ__HidePriceInSearchResults__c', 'SBQQ__NewQuoteGroup__c',\n",
    "       'SBQQ__NonDiscountable__c', 'SBQQ__NonPartnerDiscountable__c',\n",
    "       'SBQQ__Optional__c','Apttus_Config2__HasDefaults__c'],axis=1,inplace=True)"
   ]
  },
  {
   "cell_type": "code",
   "execution_count": 14,
   "metadata": {},
   "outputs": [],
   "source": [
    "df_opp_bkp['future_stage'] = df_opp_bkp.groupby('opportunity_id')['stage'].shift(-1)\n",
    "df_opp_bkp['future_close_date'] = df_opp_bkp.groupby('opportunity_id')['close_date'].shift(-1)"
   ]
  },
  {
   "cell_type": "code",
   "execution_count": 15,
   "metadata": {},
   "outputs": [],
   "source": [
    "df_merged = pd.merge(df_opp_bkp, df_accounts_bkp, on=['account_id','SnapshotGenDate'], how='left')"
   ]
  },
  {
   "cell_type": "markdown",
   "metadata": {},
   "source": [
    "2. Creating target"
   ]
  },
  {
   "cell_type": "code",
   "execution_count": 16,
   "metadata": {},
   "outputs": [
    {
     "name": "stdout",
     "output_type": "stream",
     "text": [
      "0        0\n",
      "1        0\n",
      "2        0\n",
      "3        0\n",
      "4        0\n",
      "        ..\n",
      "35336    0\n",
      "35337    0\n",
      "35338    0\n",
      "35339    0\n",
      "35340    0\n",
      "Name: target, Length: 35341, dtype: int32\n"
     ]
    }
   ],
   "source": [
    "target = df_merged['future_stage']=='Won'\n",
    "df_merged['target']= target.astype(int)\n",
    "print(df_merged['target'])"
   ]
  },
  {
   "cell_type": "code",
   "execution_count": 17,
   "metadata": {},
   "outputs": [],
   "source": [
    "df_merged.drop('future_stage',axis=1,inplace=True)"
   ]
  },
  {
   "cell_type": "code",
   "execution_count": 18,
   "metadata": {},
   "outputs": [],
   "source": [
    "#adding this appears to cause a large drop in purity?\n",
    "df_merged.drop(df_merged[df_merged['stage'].isin(['Won','Loss','No Decision','Abandoned'])].index,inplace=True)"
   ]
  },
  {
   "cell_type": "markdown",
   "metadata": {},
   "source": [
    "3. Creating datetime delta features"
   ]
  },
  {
   "cell_type": "code",
   "execution_count": 19,
   "metadata": {},
   "outputs": [],
   "source": [
    "#previously dropped 'date_to_assigned' because it appears to have around 0.99 correlation with 'date_to_acknowledged'\n",
    "df_merged['date_to_acknowledged'] = pd.to_datetime(df_merged['date_to_acknowledged'])\n",
    "df_merged['date_to_probable'] = pd.to_datetime(df_merged['date_to_probable'])\n",
    "df_merged['date_to_suspect'] = pd.to_datetime(df_merged['date_to_suspect'])\n",
    "df_merged['last_activity'] = pd.to_datetime(df_merged['last_activity'])\n",
    "df_merged['etldate'] = pd.to_datetime(df_merged['etldate'])"
   ]
  },
  {
   "cell_type": "code",
   "execution_count": 20,
   "metadata": {},
   "outputs": [],
   "source": [
    "df_merged['days_acknowledged_to_suspect']=(df_merged['date_to_suspect']-df_merged['date_to_acknowledged']).dt.days\n",
    "df_merged['days_open_to_probable']=(df_merged['date_to_probable']-df_merged['created_date']).dt.days\n",
    "df_merged['days_acknowledged_to_probable']=(df_merged['date_to_probable']-df_merged['date_to_acknowledged']).dt.days\n",
    "# scenarios:\n",
    "# opportunity not won yet/lost - input roughly infinity\n",
    "# opportunity skips stages - input delta between last stage and current stage"
   ]
  },
  {
   "cell_type": "code",
   "execution_count": 21,
   "metadata": {},
   "outputs": [],
   "source": [
    "df_merged['days_open_to_close']=(df_merged['created_date']-df_merged['close_date']).dt.days\n",
    "df_merged['days_open_to_lastactivity']=(df_merged['created_date']-df_merged['last_activity']).dt.days\n",
    "df_merged['days_open_to_etl']=(df_merged['created_date']-df_merged['etldate']).dt.days\n",
    "df_merged['days_open_to_futureclose']=(df_merged['created_date']-df_merged['future_close_date']).dt.days\n",
    "df_merged['days_open_to_SGD']=(df_merged['created_date']-df_merged['SnapshotGenDate']).dt.days"
   ]
  },
  {
   "cell_type": "code",
   "execution_count": 22,
   "metadata": {},
   "outputs": [],
   "source": [
    "df_merged.drop(['SnapshotGenDate','date_to_acknowledged','date_to_probable','date_to_suspect', 'theater_country', 'customer_industry', 'customer_tier_level', 'account_credit_limit', 'customer_since_date', 'today', 'ced_status', 'last_face_to_face_meeting', 'sales_growth', 'ad_clicks', 'LastModifiedDate_y', 'LastModifiedDate_x', 'peopleai__TotalTimeSpent__c', 'Primary_Master_Product_Code__c', 'Primary_Master_Product__c', 'mkto_sales_insight', 'highest_contact_level', 'sub_industry', 'opportunity_readiness_scorecard', 'agreement_status', 'opportunity_industry', 'other_competitor', 'theater', 'date_approved_for_full_pursuit_next_step', 'additional_license', 'close_date', 'last_activity', 'etldate', 'future_close_date', 'created_date'],axis=1,inplace=True)"
   ]
  },
  {
   "cell_type": "code",
   "execution_count": 23,
   "metadata": {},
   "outputs": [],
   "source": [
    "df_merged.drop(['account_id','opportunity_id'],axis=1,inplace=True)"
   ]
  },
  {
   "cell_type": "code",
   "execution_count": 24,
   "metadata": {},
   "outputs": [],
   "source": [
    "df_merged['fiscal_period'] = df_merged['fiscal_period'].str[5:]"
   ]
  },
  {
   "cell_type": "code",
   "execution_count": 25,
   "metadata": {},
   "outputs": [],
   "source": [
    "df_merged['fiscal_period']= df_merged['fiscal_period'].astype(int)\n",
    "df_merged['CHS_Score']= df_merged['CHS_Score'].str.split('(').str[1].str.split('%').str[0].astype(float)"
   ]
  },
  {
   "cell_type": "markdown",
   "metadata": {},
   "source": [
    "4. Imputating null values"
   ]
  },
  {
   "cell_type": "code",
   "execution_count": 26,
   "metadata": {},
   "outputs": [],
   "source": [
    "# perhaps before this cell, can create column to count the number of null cells for each row\n",
    "# imputing null values because feature importance algorithm appears to not accept null values\n",
    "# perhaps also want to combine some categories\n",
    "# perhaps some columns can use null as separate category?\n",
    "# perhaps some numerical columns need other imputation than mean?\n",
    "#df_merged['amount__converted'].fillna(value=df_merged['amount__converted'].mean(),inplace=True)\n",
    "df_merged['amount__converted'].fillna(value=df_merged['amount__converted'].mean(),inplace=True)\n",
    "df_merged['days_to_acknowledged'].fillna(value=df_merged['days_to_acknowledged'].mean(),inplace=True)\n",
    "df_merged['deal_size_band__in__usd'].fillna(value='1_<125K',inplace=True)\n",
    "df_merged['opportunity_category'].fillna(value='Other',inplace=True)\n",
    "df_merged['stage'].fillna(value='Open',inplace=True)\n",
    "df_merged['primary_industry'].fillna(value='Manufacturing',inplace=True)\n",
    "df_merged['amount_at_suspect__converted'].fillna(value=df_merged['amount_at_suspect__converted'].mean(),inplace=True)\n",
    "df_merged['days_open_to_suspect'].fillna(value=df_merged['days_open_to_suspect'].mean(),inplace=True)\n",
    "df_merged['days_suspect_to_probable'].fillna(value=df_merged['days_suspect_to_probable'].mean(),inplace=True)\n",
    "df_merged['Aggregate_PEB_Value__c'].fillna(value=df_merged['Aggregate_PEB_Value__c'].mean(),inplace=True)\n",
    "df_merged['primary_industry'].fillna(value='Potential Azure',inplace=True)\n",
    "df_merged['CHS_Score'].fillna(value=df_merged['CHS_Score'].mean(),inplace=True)\n",
    "df_merged['account_type'].fillna(value='Client',inplace=True)\n",
    "df_merged['days_since_last_case'].fillna(value=df_merged['days_since_last_case'].mean(),inplace=True)\n",
    "df_merged['days_since_BY_customer'].fillna(value=df_merged['days_since_BY_customer'].mean(),inplace=True)\n",
    "df_merged['outstanding_AR_Balance'].fillna(value=df_merged['outstanding_AR_Balance'].mean(),inplace=True)\n",
    "df_merged['website_visits'].fillna(value=df_merged['website_visits'].mean(),inplace=True)\n",
    "df_merged['visited_website_in_last_30days'].fillna(value='maybe',inplace=True)\n",
    "df_merged['DnB_credit_limit'].fillna(value=df_merged['DnB_credit_limit'].mean(),inplace=True)\n",
    "df_merged['outstanding_ar_balance_amount'].fillna(value=df_merged['outstanding_ar_balance_amount'].mean(),inplace=True)\n",
    "df_merged['outstanding_AR_Balance_over_30days'].fillna(value=df_merged['outstanding_AR_Balance_over_30days'].mean(),inplace=True)\n",
    "df_merged['days_acknowledged_to_suspect'].fillna(value=df_merged['days_acknowledged_to_suspect'].mean(),inplace=True)\n",
    "df_merged['days_open_to_probable'].fillna(value=df_merged['days_open_to_probable'].mean(),inplace=True)\n",
    "df_merged['days_acknowledged_to_probable'].fillna(value=df_merged['days_acknowledged_to_probable'].mean(),inplace=True)\n",
    "df_merged['days_open_to_futureclose'].fillna(value=df_merged['days_open_to_futureclose'].mean(),inplace=True)"
   ]
  },
  {
   "cell_type": "code",
   "execution_count": 27,
   "metadata": {},
   "outputs": [
    {
     "data": {
      "text/plain": [
       "(24009, 39)"
      ]
     },
     "execution_count": 27,
     "metadata": {},
     "output_type": "execute_result"
    }
   ],
   "source": [
    "df_merged.shape"
   ]
  },
  {
   "cell_type": "code",
   "execution_count": 28,
   "metadata": {},
   "outputs": [
    {
     "data": {
      "text/plain": [
       "amount__converted                     float64\n",
       "days_to_acknowledged                  float64\n",
       "deal_size_band__in__usd                object\n",
       "account_rating                          int64\n",
       "lead_source                            object\n",
       "type_group                             object\n",
       "opportunity_category                   object\n",
       "opportunity_sub_category               object\n",
       "stage                                  object\n",
       "fiscal_period                           int32\n",
       "age                                   float64\n",
       "primary_industry                       object\n",
       "amount_at_suspect__converted          float64\n",
       "days_open_to_suspect                  float64\n",
       "days_suspect_to_probable              float64\n",
       "Aggregate_PEB_Value__c                float64\n",
       "subscription_mode                      object\n",
       "product_lines                         float64\n",
       "Probability                           float64\n",
       "CurrencyIsoCode                        object\n",
       "CHS_Score                             float64\n",
       "account_type                           object\n",
       "days_since_last_case                  float64\n",
       "days_since_BY_customer                float64\n",
       "outstanding_AR_Balance                float64\n",
       "website_visits                        float64\n",
       "visited_website_in_last_30days         object\n",
       "DnB_credit_limit                      float64\n",
       "outstanding_ar_balance_amount         float64\n",
       "outstanding_AR_Balance_over_30days    float64\n",
       "target                                  int32\n",
       "days_acknowledged_to_suspect          float64\n",
       "days_open_to_probable                 float64\n",
       "days_acknowledged_to_probable         float64\n",
       "days_open_to_close                      int64\n",
       "days_open_to_lastactivity               int64\n",
       "days_open_to_etl                        int64\n",
       "days_open_to_futureclose              float64\n",
       "days_open_to_SGD                        int64\n",
       "dtype: object"
      ]
     },
     "execution_count": 28,
     "metadata": {},
     "output_type": "execute_result"
    }
   ],
   "source": [
    "df_merged.dtypes"
   ]
  },
  {
   "cell_type": "markdown",
   "metadata": {},
   "source": [
    "5. Encoding categorical features"
   ]
  },
  {
   "cell_type": "code",
   "execution_count": 29,
   "metadata": {},
   "outputs": [],
   "source": [
    "from sklearn.preprocessing import LabelEncoder\n",
    "\n",
    "df_merged[['deal_size_band__in__usd','lead_source','type_group','opportunity_category','opportunity_sub_category','stage','primary_industry','subscription_mode','CurrencyIsoCode','account_type','visited_website_in_last_30days']] = df_merged[['deal_size_band__in__usd','lead_source','type_group','opportunity_category','opportunity_sub_category','stage','primary_industry','subscription_mode','CurrencyIsoCode','account_type','visited_website_in_last_30days']].apply(LabelEncoder().fit_transform)"
   ]
  },
  {
   "cell_type": "code",
   "execution_count": 30,
   "metadata": {},
   "outputs": [
    {
     "data": {
      "text/plain": [
       "0        3\n",
       "5        0\n",
       "6        0\n",
       "10       1\n",
       "11       1\n",
       "        ..\n",
       "35330    0\n",
       "35334    0\n",
       "35335    1\n",
       "35336    1\n",
       "35337    1\n",
       "Name: deal_size_band__in__usd, Length: 24009, dtype: int32"
      ]
     },
     "execution_count": 30,
     "metadata": {},
     "output_type": "execute_result"
    }
   ],
   "source": [
    "df_merged['deal_size_band__in__usd']"
   ]
  },
  {
   "cell_type": "code",
   "execution_count": 31,
   "metadata": {},
   "outputs": [
    {
     "data": {
      "text/plain": [
       "False"
      ]
     },
     "execution_count": 31,
     "metadata": {},
     "output_type": "execute_result"
    }
   ],
   "source": [
    "df_merged['amount__converted'].isnull().values.any()"
   ]
  },
  {
   "cell_type": "markdown",
   "metadata": {},
   "source": [
    "6. Use feature selection algorithm"
   ]
  },
  {
   "cell_type": "code",
   "execution_count": 32,
   "metadata": {
    "scrolled": true
   },
   "outputs": [
    {
     "data": {
      "image/png": "[encoded data removed]",
      "text/plain": [
       "<Figure size 432x288 with 1 Axes>"
      ]
     },
     "metadata": {
      "needs_background": "light"
     },
     "output_type": "display_data"
    }
   ],
   "source": [
    "from sklearn.feature_selection import mutual_info_classif\n",
    "\n",
    "importances = mutual_info_classif(df_merged.loc[:, df_merged.columns!='target'],df_merged['target'])\n",
    "feat_importances = pd.Series(importances, df_merged.columns[~df_merged.columns.isin(['target'])])\n",
    "feat_importances.plot(kind='barh', color = 'teal')\n",
    "plt.show()"
   ]
  },
  {
   "cell_type": "markdown",
   "metadata": {},
   "source": [
    "7. KNN algorithm"
   ]
  },
  {
   "cell_type": "code",
   "execution_count": 35,
   "metadata": {},
   "outputs": [
    {
     "data": {
      "text/html": [
       "<style>#sk-container-id-2 {color: black;background-color: white;}#sk-container-id-2 pre{padding: 0;}#sk-container-id-2 div.sk-toggleable {background-color: white;}#sk-container-id-2 label.sk-toggleable__label {cursor: pointer;display: block;width: 100%;margin-bottom: 0;padding: 0.3em;box-sizing: border-box;text-align: center;}#sk-container-id-2 label.sk-toggleable__label-arrow:before {content: \"▸\";float: left;margin-right: 0.25em;color: #696969;}#sk-container-id-2 label.sk-toggleable__label-arrow:hover:before {color: black;}#sk-container-id-2 div.sk-estimator:hover label.sk-toggleable__label-arrow:before {color: black;}#sk-container-id-2 div.sk-toggleable__content {max-height: 0;max-width: 0;overflow: hidden;text-align: left;background-color: #f0f8ff;}#sk-container-id-2 div.sk-toggleable__content pre {margin: 0.2em;color: black;border-radius: 0.25em;background-color: #f0f8ff;}#sk-container-id-2 input.sk-toggleable__control:checked~div.sk-toggleable__content {max-height: 200px;max-width: 100%;overflow: auto;}#sk-container-id-2 input.sk-toggleable__control:checked~label.sk-toggleable__label-arrow:before {content: \"▾\";}#sk-container-id-2 div.sk-estimator input.sk-toggleable__control:checked~label.sk-toggleable__label {background-color: #d4ebff;}#sk-container-id-2 div.sk-label input.sk-toggleable__control:checked~label.sk-toggleable__label {background-color: #d4ebff;}#sk-container-id-2 input.sk-hidden--visually {border: 0;clip: rect(1px 1px 1px 1px);clip: rect(1px, 1px, 1px, 1px);height: 1px;margin: -1px;overflow: hidden;padding: 0;position: absolute;width: 1px;}#sk-container-id-2 div.sk-estimator {font-family: monospace;background-color: #f0f8ff;border: 1px dotted black;border-radius: 0.25em;box-sizing: border-box;margin-bottom: 0.5em;}#sk-container-id-2 div.sk-estimator:hover {background-color: #d4ebff;}#sk-container-id-2 div.sk-parallel-item::after {content: \"\";width: 100%;border-bottom: 1px solid gray;flex-grow: 1;}#sk-container-id-2 div.sk-label:hover label.sk-toggleable__label {background-color: #d4ebff;}#sk-container-id-2 div.sk-serial::before {content: \"\";position: absolute;border-left: 1px solid gray;box-sizing: border-box;top: 0;bottom: 0;left: 50%;z-index: 0;}#sk-container-id-2 div.sk-serial {display: flex;flex-direction: column;align-items: center;background-color: white;padding-right: 0.2em;padding-left: 0.2em;position: relative;}#sk-container-id-2 div.sk-item {position: relative;z-index: 1;}#sk-container-id-2 div.sk-parallel {display: flex;align-items: stretch;justify-content: center;background-color: white;position: relative;}#sk-container-id-2 div.sk-item::before, #sk-container-id-2 div.sk-parallel-item::before {content: \"\";position: absolute;border-left: 1px solid gray;box-sizing: border-box;top: 0;bottom: 0;left: 50%;z-index: -1;}#sk-container-id-2 div.sk-parallel-item {display: flex;flex-direction: column;z-index: 1;position: relative;background-color: white;}#sk-container-id-2 div.sk-parallel-item:first-child::after {align-self: flex-end;width: 50%;}#sk-container-id-2 div.sk-parallel-item:last-child::after {align-self: flex-start;width: 50%;}#sk-container-id-2 div.sk-parallel-item:only-child::after {width: 0;}#sk-container-id-2 div.sk-dashed-wrapped {border: 1px dashed gray;margin: 0 0.4em 0.5em 0.4em;box-sizing: border-box;padding-bottom: 0.4em;background-color: white;}#sk-container-id-2 div.sk-label label {font-family: monospace;font-weight: bold;display: inline-block;line-height: 1.2em;}#sk-container-id-2 div.sk-label-container {text-align: center;}#sk-container-id-2 div.sk-container {/* jupyter's `normalize.less` sets `[hidden] { display: none; }` but bootstrap.min.css set `[hidden] { display: none !important; }` so we also need the `!important` here to be able to override the default hidden behavior on the sphinx rendered scikit-learn.org. See: https://github.com/scikit-learn/scikit-learn/issues/21755 */display: inline-block !important;position: relative;}#sk-container-id-2 div.sk-text-repr-fallback {display: none;}</style><div id=\"sk-container-id-2\" class=\"sk-top-container\"><div class=\"sk-text-repr-fallback\"><pre>KNeighborsClassifier(n_neighbors=3)</pre><b>In a Jupyter environment, please rerun this cell to show the HTML representation or trust the notebook. <br />On GitHub, the HTML representation is unable to render, please try loading this page with nbviewer.org.</b></div><div class=\"sk-container\" hidden><div class=\"sk-item\"><div class=\"sk-estimator sk-toggleable\"><input class=\"sk-toggleable__control sk-hidden--visually\" id=\"sk-estimator-id-2\" type=\"checkbox\" checked><label for=\"sk-estimator-id-2\" class=\"sk-toggleable__label sk-toggleable__label-arrow\">KNeighborsClassifier</label><div class=\"sk-toggleable__content\"><pre>KNeighborsClassifier(n_neighbors=3)</pre></div></div></div></div></div>"
      ],
      "text/plain": [
       "KNeighborsClassifier(n_neighbors=3)"
      ]
     },
     "execution_count": 35,
     "metadata": {},
     "output_type": "execute_result"
    }
   ],
   "source": [
    "from sklearn.neighbors import KNeighborsClassifier\n",
    "\n",
    "filter_features = feat_importances[feat_importances>0.005].index.tolist()\n",
    "neigh = KNeighborsClassifier(n_neighbors=3)\n",
    "neigh.fit(df_merged[filter_features][:20000], df_merged['target'][:20000])"
   ]
  },
  {
   "cell_type": "code",
   "execution_count": 36,
   "metadata": {},
   "outputs": [
    {
     "data": {
      "text/plain": [
       "0.9735594911449239"
      ]
     },
     "execution_count": 36,
     "metadata": {},
     "output_type": "execute_result"
    }
   ],
   "source": [
    "neigh.score(df_merged[filter_features][20000:], df_merged['target'][20000:])"
   ]
  },
  {
   "cell_type": "code",
   "execution_count": 37,
   "metadata": {
    "scrolled": true
   },
   "outputs": [
    {
     "data": {
      "text/plain": [
       "0.15789473684210525"
      ]
     },
     "execution_count": 37,
     "metadata": {},
     "output_type": "execute_result"
    }
   ],
   "source": [
    "from sklearn.metrics import precision_score\n",
    "predictions = neigh.predict(df_merged[filter_features][20000:])\n",
    "precision_score(df_merged['target'][20000:],predictions)"
   ]
  },
  {
   "cell_type": "markdown",
   "metadata": {},
   "source": [
    "8. Other calculation"
   ]
  },
  {
   "cell_type": "code",
   "execution_count": 38,
   "metadata": {},
   "outputs": [],
   "source": [
    "target_ones = predictions[np.argwhere(np.array(df_merged['target'][20000:]).flatten()==1).flatten()]"
   ]
  },
  {
   "cell_type": "code",
   "execution_count": 39,
   "metadata": {},
   "outputs": [
    {
     "data": {
      "text/plain": [
       "74"
      ]
     },
     "execution_count": 39,
     "metadata": {},
     "output_type": "execute_result"
    }
   ],
   "source": [
    "len(np.argwhere(target_ones==0))"
   ]
  },
  {
   "cell_type": "code",
   "execution_count": 40,
   "metadata": {
    "scrolled": true
   },
   "outputs": [
    {
     "data": {
      "text/plain": [
       "3971"
      ]
     },
     "execution_count": 40,
     "metadata": {},
     "output_type": "execute_result"
    }
   ],
   "source": [
    "len(np.argwhere(predictions==0))"
   ]
  },
  {
   "cell_type": "markdown",
   "metadata": {},
   "source": [
    "9. Decision Tree Algorithm"
   ]
  },
  {
   "cell_type": "code",
   "execution_count": 41,
   "metadata": {},
   "outputs": [
    {
     "name": "stdout",
     "output_type": "stream",
     "text": [
      "[0.94169096 0.95501874 0.9633486  0.92628072 0.95960017 0.94835485\n",
      " 0.95585173 0.70553936 0.94668888 0.95625   ]\n",
      "0.9700673484659517\n"
     ]
    }
   ],
   "source": [
    "from sklearn.model_selection import cross_val_score\n",
    "from sklearn.tree import DecisionTreeClassifier\n",
    "filter_features = feat_importances[feat_importances>0.005].index.tolist()\n",
    "clf = DecisionTreeClassifier(random_state=0)\n",
    "print(cross_val_score(clf, df_merged[filter_features], df_merged['target'], cv=10))\n",
    "clf.fit(df_merged[filter_features][:20000], df_merged['target'][:20000])\n",
    "print(clf.score(df_merged[filter_features][20000:], df_merged['target'][20000:]))"
   ]
  },
  {
   "cell_type": "code",
   "execution_count": 42,
   "metadata": {},
   "outputs": [
    {
     "data": {
      "text/plain": [
       "0.2916666666666667"
      ]
     },
     "execution_count": 42,
     "metadata": {},
     "output_type": "execute_result"
    }
   ],
   "source": [
    "predictionsdt = clf.predict(df_merged[filter_features][20000:])\n",
    "precision_score(df_merged['target'][20000:],predictionsdt)"
   ]
  },
  {
   "cell_type": "code",
   "execution_count": null,
   "metadata": {},
   "outputs": [],
   "source": [
    "#possibilities\n",
    "#1. Issue in feature engineering\n",
    "#2. Issue in ML algorithm used\n",
    "#3. Data distribution issue.\n",
    "#4. No possibility for good result\n",
    "#5. slowly increase number of features and observe accuracy rate.\n",
    "#6. output should be probability format for graphing results?"
   ]
  },
  {
   "cell_type": "code",
   "execution_count": null,
   "metadata": {},
   "outputs": [],
   "source": []
  }
 ],
 "metadata": {
  "kernelspec": {
   "display_name": "Python 3 (ipykernel)",
   "language": "python",
   "name": "python3"
  },
  "language_info": {
   "codemirror_mode": {
    "name": "ipython",
    "version": 3
   },
   "file_extension": ".py",
   "mimetype": "text/x-python",
   "name": "python",
   "nbconvert_exporter": "python",
   "pygments_lexer": "ipython3",
   "version": "3.12.4"
  }
 },
 "nbformat": 4,
 "nbformat_minor": 4
}
